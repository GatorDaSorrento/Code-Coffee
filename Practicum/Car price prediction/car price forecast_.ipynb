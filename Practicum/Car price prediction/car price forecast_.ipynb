{
 "cells": [
  {
   "cell_type": "markdown",
   "metadata": {},
   "source": [
    "## Подготовка данных"
   ]
  },
  {
   "cell_type": "code",
   "execution_count": 1,
   "metadata": {},
   "outputs": [],
   "source": [
    "import pandas as pd\n",
    "import numpy as np\n",
    "import seaborn as sns\n",
    "\n",
    "from sklearn.model_selection import train_test_split\n",
    "from sklearn.model_selection import cross_val_score\n",
    "from sklearn.model_selection import GridSearchCV\n",
    "\n",
    "from sklearn.tree import DecisionTreeRegressor\n",
    "\n",
    "from sklearn.ensemble import RandomForestRegressor\n",
    "\n",
    "from sklearn.linear_model import LinearRegression\n",
    "\n",
    "from sklearn.metrics import mean_squared_error\n",
    "\n",
    "from sklearn.preprocessing import OrdinalEncoder\n",
    "\n",
    "import lightgbm as lgb\n",
    "from lightgbm import LGBMRegressor"
   ]
  },
  {
   "cell_type": "markdown",
   "metadata": {},
   "source": [
    "Загрузим и изучим данные"
   ]
  },
  {
   "cell_type": "code",
   "execution_count": 2,
   "metadata": {
    "scrolled": false
   },
   "outputs": [
    {
     "data": {
      "text/html": [
       "<div>\n",
       "<style scoped>\n",
       "    .dataframe tbody tr th:only-of-type {\n",
       "        vertical-align: middle;\n",
       "    }\n",
       "\n",
       "    .dataframe tbody tr th {\n",
       "        vertical-align: top;\n",
       "    }\n",
       "\n",
       "    .dataframe thead th {\n",
       "        text-align: right;\n",
       "    }\n",
       "</style>\n",
       "<table border=\"1\" class=\"dataframe\">\n",
       "  <thead>\n",
       "    <tr style=\"text-align: right;\">\n",
       "      <th></th>\n",
       "      <th>DateCrawled</th>\n",
       "      <th>Price</th>\n",
       "      <th>VehicleType</th>\n",
       "      <th>RegistrationYear</th>\n",
       "      <th>Gearbox</th>\n",
       "      <th>Power</th>\n",
       "      <th>Model</th>\n",
       "      <th>Kilometer</th>\n",
       "      <th>RegistrationMonth</th>\n",
       "      <th>FuelType</th>\n",
       "      <th>Brand</th>\n",
       "      <th>Repaired</th>\n",
       "      <th>DateCreated</th>\n",
       "      <th>NumberOfPictures</th>\n",
       "      <th>PostalCode</th>\n",
       "      <th>LastSeen</th>\n",
       "    </tr>\n",
       "  </thead>\n",
       "  <tbody>\n",
       "    <tr>\n",
       "      <th>0</th>\n",
       "      <td>2016-03-24 11:52:17</td>\n",
       "      <td>480</td>\n",
       "      <td>NaN</td>\n",
       "      <td>1993</td>\n",
       "      <td>manual</td>\n",
       "      <td>0</td>\n",
       "      <td>golf</td>\n",
       "      <td>150000</td>\n",
       "      <td>0</td>\n",
       "      <td>petrol</td>\n",
       "      <td>volkswagen</td>\n",
       "      <td>NaN</td>\n",
       "      <td>2016-03-24 00:00:00</td>\n",
       "      <td>0</td>\n",
       "      <td>70435</td>\n",
       "      <td>2016-04-07 03:16:57</td>\n",
       "    </tr>\n",
       "    <tr>\n",
       "      <th>1</th>\n",
       "      <td>2016-03-24 10:58:45</td>\n",
       "      <td>18300</td>\n",
       "      <td>coupe</td>\n",
       "      <td>2011</td>\n",
       "      <td>manual</td>\n",
       "      <td>190</td>\n",
       "      <td>NaN</td>\n",
       "      <td>125000</td>\n",
       "      <td>5</td>\n",
       "      <td>gasoline</td>\n",
       "      <td>audi</td>\n",
       "      <td>yes</td>\n",
       "      <td>2016-03-24 00:00:00</td>\n",
       "      <td>0</td>\n",
       "      <td>66954</td>\n",
       "      <td>2016-04-07 01:46:50</td>\n",
       "    </tr>\n",
       "    <tr>\n",
       "      <th>2</th>\n",
       "      <td>2016-03-14 12:52:21</td>\n",
       "      <td>9800</td>\n",
       "      <td>suv</td>\n",
       "      <td>2004</td>\n",
       "      <td>auto</td>\n",
       "      <td>163</td>\n",
       "      <td>grand</td>\n",
       "      <td>125000</td>\n",
       "      <td>8</td>\n",
       "      <td>gasoline</td>\n",
       "      <td>jeep</td>\n",
       "      <td>NaN</td>\n",
       "      <td>2016-03-14 00:00:00</td>\n",
       "      <td>0</td>\n",
       "      <td>90480</td>\n",
       "      <td>2016-04-05 12:47:46</td>\n",
       "    </tr>\n",
       "    <tr>\n",
       "      <th>3</th>\n",
       "      <td>2016-03-17 16:54:04</td>\n",
       "      <td>1500</td>\n",
       "      <td>small</td>\n",
       "      <td>2001</td>\n",
       "      <td>manual</td>\n",
       "      <td>75</td>\n",
       "      <td>golf</td>\n",
       "      <td>150000</td>\n",
       "      <td>6</td>\n",
       "      <td>petrol</td>\n",
       "      <td>volkswagen</td>\n",
       "      <td>no</td>\n",
       "      <td>2016-03-17 00:00:00</td>\n",
       "      <td>0</td>\n",
       "      <td>91074</td>\n",
       "      <td>2016-03-17 17:40:17</td>\n",
       "    </tr>\n",
       "    <tr>\n",
       "      <th>4</th>\n",
       "      <td>2016-03-31 17:25:20</td>\n",
       "      <td>3600</td>\n",
       "      <td>small</td>\n",
       "      <td>2008</td>\n",
       "      <td>manual</td>\n",
       "      <td>69</td>\n",
       "      <td>fabia</td>\n",
       "      <td>90000</td>\n",
       "      <td>7</td>\n",
       "      <td>gasoline</td>\n",
       "      <td>skoda</td>\n",
       "      <td>no</td>\n",
       "      <td>2016-03-31 00:00:00</td>\n",
       "      <td>0</td>\n",
       "      <td>60437</td>\n",
       "      <td>2016-04-06 10:17:21</td>\n",
       "    </tr>\n",
       "  </tbody>\n",
       "</table>\n",
       "</div>"
      ],
      "text/plain": [
       "           DateCrawled  Price VehicleType  RegistrationYear Gearbox  Power  \\\n",
       "0  2016-03-24 11:52:17    480         NaN              1993  manual      0   \n",
       "1  2016-03-24 10:58:45  18300       coupe              2011  manual    190   \n",
       "2  2016-03-14 12:52:21   9800         suv              2004    auto    163   \n",
       "3  2016-03-17 16:54:04   1500       small              2001  manual     75   \n",
       "4  2016-03-31 17:25:20   3600       small              2008  manual     69   \n",
       "\n",
       "   Model  Kilometer  RegistrationMonth  FuelType       Brand Repaired  \\\n",
       "0   golf     150000                  0    petrol  volkswagen      NaN   \n",
       "1    NaN     125000                  5  gasoline        audi      yes   \n",
       "2  grand     125000                  8  gasoline        jeep      NaN   \n",
       "3   golf     150000                  6    petrol  volkswagen       no   \n",
       "4  fabia      90000                  7  gasoline       skoda       no   \n",
       "\n",
       "           DateCreated  NumberOfPictures  PostalCode             LastSeen  \n",
       "0  2016-03-24 00:00:00                 0       70435  2016-04-07 03:16:57  \n",
       "1  2016-03-24 00:00:00                 0       66954  2016-04-07 01:46:50  \n",
       "2  2016-03-14 00:00:00                 0       90480  2016-04-05 12:47:46  \n",
       "3  2016-03-17 00:00:00                 0       91074  2016-03-17 17:40:17  \n",
       "4  2016-03-31 00:00:00                 0       60437  2016-04-06 10:17:21  "
      ]
     },
     "metadata": {},
     "output_type": "display_data"
    },
    {
     "name": "stdout",
     "output_type": "stream",
     "text": [
      "<class 'pandas.core.frame.DataFrame'>\n",
      "RangeIndex: 354369 entries, 0 to 354368\n",
      "Data columns (total 16 columns):\n",
      " #   Column             Non-Null Count   Dtype \n",
      "---  ------             --------------   ----- \n",
      " 0   DateCrawled        354369 non-null  object\n",
      " 1   Price              354369 non-null  int64 \n",
      " 2   VehicleType        316879 non-null  object\n",
      " 3   RegistrationYear   354369 non-null  int64 \n",
      " 4   Gearbox            334536 non-null  object\n",
      " 5   Power              354369 non-null  int64 \n",
      " 6   Model              334664 non-null  object\n",
      " 7   Kilometer          354369 non-null  int64 \n",
      " 8   RegistrationMonth  354369 non-null  int64 \n",
      " 9   FuelType           321474 non-null  object\n",
      " 10  Brand              354369 non-null  object\n",
      " 11  Repaired           283215 non-null  object\n",
      " 12  DateCreated        354369 non-null  object\n",
      " 13  NumberOfPictures   354369 non-null  int64 \n",
      " 14  PostalCode         354369 non-null  int64 \n",
      " 15  LastSeen           354369 non-null  object\n",
      "dtypes: int64(7), object(9)\n",
      "memory usage: 43.3+ MB\n"
     ]
    }
   ],
   "source": [
    "data = pd.read_csv('/datasets/autos.csv')\n",
    "display(data.head(5))\n",
    "data.info()"
   ]
  },
  {
   "cell_type": "markdown",
   "metadata": {},
   "source": [
    "Проверим датасет на пропуски и дубликаты"
   ]
  },
  {
   "cell_type": "code",
   "execution_count": 3,
   "metadata": {},
   "outputs": [
    {
     "name": "stdout",
     "output_type": "stream",
     "text": [
      "4\n",
      "\n",
      "DateCrawled              0\n",
      "Price                    0\n",
      "VehicleType          37490\n",
      "RegistrationYear         0\n",
      "Gearbox              19833\n",
      "Power                    0\n",
      "Model                19705\n",
      "Kilometer                0\n",
      "RegistrationMonth        0\n",
      "FuelType             32895\n",
      "Brand                    0\n",
      "Repaired             71154\n",
      "DateCreated              0\n",
      "NumberOfPictures         0\n",
      "PostalCode               0\n",
      "LastSeen                 0\n",
      "dtype: int64\n"
     ]
    }
   ],
   "source": [
    "print(data.duplicated().sum())\n",
    "print('')\n",
    "print(data.isna().sum())"
   ]
  },
  {
   "cell_type": "markdown",
   "metadata": {},
   "source": [
    "Удалим явные дубликаты"
   ]
  },
  {
   "cell_type": "code",
   "execution_count": 4,
   "metadata": {},
   "outputs": [
    {
     "name": "stdout",
     "output_type": "stream",
     "text": [
      "0\n"
     ]
    }
   ],
   "source": [
    "data = data.drop_duplicates()\n",
    "print(data.duplicated().sum())"
   ]
  },
  {
   "cell_type": "markdown",
   "metadata": {},
   "source": [
    "Заполним отсутствующие значения датафрейма по следующей логике:\n",
    "1) записи с NaN в столбцах VehicleType , GearBox, FuelType, Repaired заполним значением \"unknown\", т.к. нет возмодности определить тип данных исходя из других данных (комбинации других столбцов)\n",
    "\n",
    "2) модель определим по типу марки машины с одинаковой мощностью и типом кузова\n"
   ]
  },
  {
   "cell_type": "code",
   "execution_count": 5,
   "metadata": {
    "scrolled": false
   },
   "outputs": [
    {
     "name": "stdout",
     "output_type": "stream",
     "text": [
      "DateCrawled              0\n",
      "Price                    0\n",
      "VehicleType              0\n",
      "RegistrationYear         0\n",
      "Gearbox                  0\n",
      "Power                    0\n",
      "Model                19705\n",
      "Kilometer                0\n",
      "RegistrationMonth        0\n",
      "FuelType                 0\n",
      "Brand                    0\n",
      "Repaired                 0\n",
      "DateCreated              0\n",
      "NumberOfPictures         0\n",
      "PostalCode               0\n",
      "LastSeen                 0\n",
      "dtype: int64\n"
     ]
    },
    {
     "data": {
      "text/html": [
       "<div>\n",
       "<style scoped>\n",
       "    .dataframe tbody tr th:only-of-type {\n",
       "        vertical-align: middle;\n",
       "    }\n",
       "\n",
       "    .dataframe tbody tr th {\n",
       "        vertical-align: top;\n",
       "    }\n",
       "\n",
       "    .dataframe thead th {\n",
       "        text-align: right;\n",
       "    }\n",
       "</style>\n",
       "<table border=\"1\" class=\"dataframe\">\n",
       "  <thead>\n",
       "    <tr style=\"text-align: right;\">\n",
       "      <th></th>\n",
       "      <th>DateCrawled</th>\n",
       "      <th>Price</th>\n",
       "      <th>VehicleType</th>\n",
       "      <th>RegistrationYear</th>\n",
       "      <th>Gearbox</th>\n",
       "      <th>Power</th>\n",
       "      <th>Model</th>\n",
       "      <th>Kilometer</th>\n",
       "      <th>RegistrationMonth</th>\n",
       "      <th>FuelType</th>\n",
       "      <th>Brand</th>\n",
       "      <th>Repaired</th>\n",
       "      <th>DateCreated</th>\n",
       "      <th>NumberOfPictures</th>\n",
       "      <th>PostalCode</th>\n",
       "      <th>LastSeen</th>\n",
       "    </tr>\n",
       "  </thead>\n",
       "  <tbody>\n",
       "    <tr>\n",
       "      <th>0</th>\n",
       "      <td>2016-03-24 11:52:17</td>\n",
       "      <td>480</td>\n",
       "      <td>unknown</td>\n",
       "      <td>1993</td>\n",
       "      <td>manual</td>\n",
       "      <td>0</td>\n",
       "      <td>golf</td>\n",
       "      <td>150000</td>\n",
       "      <td>0</td>\n",
       "      <td>petrol</td>\n",
       "      <td>volkswagen</td>\n",
       "      <td>unknown</td>\n",
       "      <td>2016-03-24 00:00:00</td>\n",
       "      <td>0</td>\n",
       "      <td>70435</td>\n",
       "      <td>2016-04-07 03:16:57</td>\n",
       "    </tr>\n",
       "    <tr>\n",
       "      <th>1</th>\n",
       "      <td>2016-03-24 10:58:45</td>\n",
       "      <td>18300</td>\n",
       "      <td>coupe</td>\n",
       "      <td>2011</td>\n",
       "      <td>manual</td>\n",
       "      <td>190</td>\n",
       "      <td>NaN</td>\n",
       "      <td>125000</td>\n",
       "      <td>5</td>\n",
       "      <td>gasoline</td>\n",
       "      <td>audi</td>\n",
       "      <td>yes</td>\n",
       "      <td>2016-03-24 00:00:00</td>\n",
       "      <td>0</td>\n",
       "      <td>66954</td>\n",
       "      <td>2016-04-07 01:46:50</td>\n",
       "    </tr>\n",
       "    <tr>\n",
       "      <th>2</th>\n",
       "      <td>2016-03-14 12:52:21</td>\n",
       "      <td>9800</td>\n",
       "      <td>suv</td>\n",
       "      <td>2004</td>\n",
       "      <td>auto</td>\n",
       "      <td>163</td>\n",
       "      <td>grand</td>\n",
       "      <td>125000</td>\n",
       "      <td>8</td>\n",
       "      <td>gasoline</td>\n",
       "      <td>jeep</td>\n",
       "      <td>unknown</td>\n",
       "      <td>2016-03-14 00:00:00</td>\n",
       "      <td>0</td>\n",
       "      <td>90480</td>\n",
       "      <td>2016-04-05 12:47:46</td>\n",
       "    </tr>\n",
       "    <tr>\n",
       "      <th>3</th>\n",
       "      <td>2016-03-17 16:54:04</td>\n",
       "      <td>1500</td>\n",
       "      <td>small</td>\n",
       "      <td>2001</td>\n",
       "      <td>manual</td>\n",
       "      <td>75</td>\n",
       "      <td>golf</td>\n",
       "      <td>150000</td>\n",
       "      <td>6</td>\n",
       "      <td>petrol</td>\n",
       "      <td>volkswagen</td>\n",
       "      <td>no</td>\n",
       "      <td>2016-03-17 00:00:00</td>\n",
       "      <td>0</td>\n",
       "      <td>91074</td>\n",
       "      <td>2016-03-17 17:40:17</td>\n",
       "    </tr>\n",
       "    <tr>\n",
       "      <th>4</th>\n",
       "      <td>2016-03-31 17:25:20</td>\n",
       "      <td>3600</td>\n",
       "      <td>small</td>\n",
       "      <td>2008</td>\n",
       "      <td>manual</td>\n",
       "      <td>69</td>\n",
       "      <td>fabia</td>\n",
       "      <td>90000</td>\n",
       "      <td>7</td>\n",
       "      <td>gasoline</td>\n",
       "      <td>skoda</td>\n",
       "      <td>no</td>\n",
       "      <td>2016-03-31 00:00:00</td>\n",
       "      <td>0</td>\n",
       "      <td>60437</td>\n",
       "      <td>2016-04-06 10:17:21</td>\n",
       "    </tr>\n",
       "    <tr>\n",
       "      <th>5</th>\n",
       "      <td>2016-04-04 17:36:23</td>\n",
       "      <td>650</td>\n",
       "      <td>sedan</td>\n",
       "      <td>1995</td>\n",
       "      <td>manual</td>\n",
       "      <td>102</td>\n",
       "      <td>3er</td>\n",
       "      <td>150000</td>\n",
       "      <td>10</td>\n",
       "      <td>petrol</td>\n",
       "      <td>bmw</td>\n",
       "      <td>yes</td>\n",
       "      <td>2016-04-04 00:00:00</td>\n",
       "      <td>0</td>\n",
       "      <td>33775</td>\n",
       "      <td>2016-04-06 19:17:07</td>\n",
       "    </tr>\n",
       "    <tr>\n",
       "      <th>6</th>\n",
       "      <td>2016-04-01 20:48:51</td>\n",
       "      <td>2200</td>\n",
       "      <td>convertible</td>\n",
       "      <td>2004</td>\n",
       "      <td>manual</td>\n",
       "      <td>109</td>\n",
       "      <td>2_reihe</td>\n",
       "      <td>150000</td>\n",
       "      <td>8</td>\n",
       "      <td>petrol</td>\n",
       "      <td>peugeot</td>\n",
       "      <td>no</td>\n",
       "      <td>2016-04-01 00:00:00</td>\n",
       "      <td>0</td>\n",
       "      <td>67112</td>\n",
       "      <td>2016-04-05 18:18:39</td>\n",
       "    </tr>\n",
       "    <tr>\n",
       "      <th>7</th>\n",
       "      <td>2016-03-21 18:54:38</td>\n",
       "      <td>0</td>\n",
       "      <td>sedan</td>\n",
       "      <td>1980</td>\n",
       "      <td>manual</td>\n",
       "      <td>50</td>\n",
       "      <td>other</td>\n",
       "      <td>40000</td>\n",
       "      <td>7</td>\n",
       "      <td>petrol</td>\n",
       "      <td>volkswagen</td>\n",
       "      <td>no</td>\n",
       "      <td>2016-03-21 00:00:00</td>\n",
       "      <td>0</td>\n",
       "      <td>19348</td>\n",
       "      <td>2016-03-25 16:47:58</td>\n",
       "    </tr>\n",
       "    <tr>\n",
       "      <th>8</th>\n",
       "      <td>2016-04-04 23:42:13</td>\n",
       "      <td>14500</td>\n",
       "      <td>bus</td>\n",
       "      <td>2014</td>\n",
       "      <td>manual</td>\n",
       "      <td>125</td>\n",
       "      <td>c_max</td>\n",
       "      <td>30000</td>\n",
       "      <td>8</td>\n",
       "      <td>petrol</td>\n",
       "      <td>ford</td>\n",
       "      <td>unknown</td>\n",
       "      <td>2016-04-04 00:00:00</td>\n",
       "      <td>0</td>\n",
       "      <td>94505</td>\n",
       "      <td>2016-04-04 23:42:13</td>\n",
       "    </tr>\n",
       "    <tr>\n",
       "      <th>9</th>\n",
       "      <td>2016-03-17 10:53:50</td>\n",
       "      <td>999</td>\n",
       "      <td>small</td>\n",
       "      <td>1998</td>\n",
       "      <td>manual</td>\n",
       "      <td>101</td>\n",
       "      <td>golf</td>\n",
       "      <td>150000</td>\n",
       "      <td>0</td>\n",
       "      <td>unknown</td>\n",
       "      <td>volkswagen</td>\n",
       "      <td>unknown</td>\n",
       "      <td>2016-03-17 00:00:00</td>\n",
       "      <td>0</td>\n",
       "      <td>27472</td>\n",
       "      <td>2016-03-31 17:17:06</td>\n",
       "    </tr>\n",
       "  </tbody>\n",
       "</table>\n",
       "</div>"
      ],
      "text/plain": [
       "           DateCrawled  Price  VehicleType  RegistrationYear Gearbox  Power  \\\n",
       "0  2016-03-24 11:52:17    480      unknown              1993  manual      0   \n",
       "1  2016-03-24 10:58:45  18300        coupe              2011  manual    190   \n",
       "2  2016-03-14 12:52:21   9800          suv              2004    auto    163   \n",
       "3  2016-03-17 16:54:04   1500        small              2001  manual     75   \n",
       "4  2016-03-31 17:25:20   3600        small              2008  manual     69   \n",
       "5  2016-04-04 17:36:23    650        sedan              1995  manual    102   \n",
       "6  2016-04-01 20:48:51   2200  convertible              2004  manual    109   \n",
       "7  2016-03-21 18:54:38      0        sedan              1980  manual     50   \n",
       "8  2016-04-04 23:42:13  14500          bus              2014  manual    125   \n",
       "9  2016-03-17 10:53:50    999        small              1998  manual    101   \n",
       "\n",
       "     Model  Kilometer  RegistrationMonth  FuelType       Brand Repaired  \\\n",
       "0     golf     150000                  0    petrol  volkswagen  unknown   \n",
       "1      NaN     125000                  5  gasoline        audi      yes   \n",
       "2    grand     125000                  8  gasoline        jeep  unknown   \n",
       "3     golf     150000                  6    petrol  volkswagen       no   \n",
       "4    fabia      90000                  7  gasoline       skoda       no   \n",
       "5      3er     150000                 10    petrol         bmw      yes   \n",
       "6  2_reihe     150000                  8    petrol     peugeot       no   \n",
       "7    other      40000                  7    petrol  volkswagen       no   \n",
       "8    c_max      30000                  8    petrol        ford  unknown   \n",
       "9     golf     150000                  0   unknown  volkswagen  unknown   \n",
       "\n",
       "           DateCreated  NumberOfPictures  PostalCode             LastSeen  \n",
       "0  2016-03-24 00:00:00                 0       70435  2016-04-07 03:16:57  \n",
       "1  2016-03-24 00:00:00                 0       66954  2016-04-07 01:46:50  \n",
       "2  2016-03-14 00:00:00                 0       90480  2016-04-05 12:47:46  \n",
       "3  2016-03-17 00:00:00                 0       91074  2016-03-17 17:40:17  \n",
       "4  2016-03-31 00:00:00                 0       60437  2016-04-06 10:17:21  \n",
       "5  2016-04-04 00:00:00                 0       33775  2016-04-06 19:17:07  \n",
       "6  2016-04-01 00:00:00                 0       67112  2016-04-05 18:18:39  \n",
       "7  2016-03-21 00:00:00                 0       19348  2016-03-25 16:47:58  \n",
       "8  2016-04-04 00:00:00                 0       94505  2016-04-04 23:42:13  \n",
       "9  2016-03-17 00:00:00                 0       27472  2016-03-31 17:17:06  "
      ]
     },
     "execution_count": 5,
     "metadata": {},
     "output_type": "execute_result"
    }
   ],
   "source": [
    "data_clean = data.fillna({'VehicleType':'unknown','Gearbox':'unknown', 'Repaired':'unknown', 'FuelType':'unknown'})\n",
    "print(data_clean.isna().sum())\n",
    "data_clean.head(10)"
   ]
  },
  {
   "cell_type": "code",
   "execution_count": 6,
   "metadata": {},
   "outputs": [],
   "source": [
    "data_clean['Model'] = data_clean['Model'].fillna(data_clean.groupby(['Brand','VehicleType','Power'])['Model'].transform('first'))"
   ]
  },
  {
   "cell_type": "code",
   "execution_count": 7,
   "metadata": {},
   "outputs": [
    {
     "data": {
      "text/html": [
       "<div>\n",
       "<style scoped>\n",
       "    .dataframe tbody tr th:only-of-type {\n",
       "        vertical-align: middle;\n",
       "    }\n",
       "\n",
       "    .dataframe tbody tr th {\n",
       "        vertical-align: top;\n",
       "    }\n",
       "\n",
       "    .dataframe thead th {\n",
       "        text-align: right;\n",
       "    }\n",
       "</style>\n",
       "<table border=\"1\" class=\"dataframe\">\n",
       "  <thead>\n",
       "    <tr style=\"text-align: right;\">\n",
       "      <th></th>\n",
       "      <th>DateCrawled</th>\n",
       "      <th>Price</th>\n",
       "      <th>VehicleType</th>\n",
       "      <th>RegistrationYear</th>\n",
       "      <th>Gearbox</th>\n",
       "      <th>Power</th>\n",
       "      <th>Model</th>\n",
       "      <th>Kilometer</th>\n",
       "      <th>RegistrationMonth</th>\n",
       "      <th>FuelType</th>\n",
       "      <th>Brand</th>\n",
       "      <th>Repaired</th>\n",
       "      <th>DateCreated</th>\n",
       "      <th>NumberOfPictures</th>\n",
       "      <th>PostalCode</th>\n",
       "      <th>LastSeen</th>\n",
       "    </tr>\n",
       "  </thead>\n",
       "  <tbody>\n",
       "    <tr>\n",
       "      <th>0</th>\n",
       "      <td>2016-03-24 11:52:17</td>\n",
       "      <td>480</td>\n",
       "      <td>unknown</td>\n",
       "      <td>1993</td>\n",
       "      <td>manual</td>\n",
       "      <td>0</td>\n",
       "      <td>golf</td>\n",
       "      <td>150000</td>\n",
       "      <td>0</td>\n",
       "      <td>petrol</td>\n",
       "      <td>volkswagen</td>\n",
       "      <td>unknown</td>\n",
       "      <td>2016-03-24 00:00:00</td>\n",
       "      <td>0</td>\n",
       "      <td>70435</td>\n",
       "      <td>2016-04-07 03:16:57</td>\n",
       "    </tr>\n",
       "    <tr>\n",
       "      <th>1</th>\n",
       "      <td>2016-03-24 10:58:45</td>\n",
       "      <td>18300</td>\n",
       "      <td>coupe</td>\n",
       "      <td>2011</td>\n",
       "      <td>manual</td>\n",
       "      <td>190</td>\n",
       "      <td>a5</td>\n",
       "      <td>125000</td>\n",
       "      <td>5</td>\n",
       "      <td>gasoline</td>\n",
       "      <td>audi</td>\n",
       "      <td>yes</td>\n",
       "      <td>2016-03-24 00:00:00</td>\n",
       "      <td>0</td>\n",
       "      <td>66954</td>\n",
       "      <td>2016-04-07 01:46:50</td>\n",
       "    </tr>\n",
       "    <tr>\n",
       "      <th>2</th>\n",
       "      <td>2016-03-14 12:52:21</td>\n",
       "      <td>9800</td>\n",
       "      <td>suv</td>\n",
       "      <td>2004</td>\n",
       "      <td>auto</td>\n",
       "      <td>163</td>\n",
       "      <td>grand</td>\n",
       "      <td>125000</td>\n",
       "      <td>8</td>\n",
       "      <td>gasoline</td>\n",
       "      <td>jeep</td>\n",
       "      <td>unknown</td>\n",
       "      <td>2016-03-14 00:00:00</td>\n",
       "      <td>0</td>\n",
       "      <td>90480</td>\n",
       "      <td>2016-04-05 12:47:46</td>\n",
       "    </tr>\n",
       "    <tr>\n",
       "      <th>3</th>\n",
       "      <td>2016-03-17 16:54:04</td>\n",
       "      <td>1500</td>\n",
       "      <td>small</td>\n",
       "      <td>2001</td>\n",
       "      <td>manual</td>\n",
       "      <td>75</td>\n",
       "      <td>golf</td>\n",
       "      <td>150000</td>\n",
       "      <td>6</td>\n",
       "      <td>petrol</td>\n",
       "      <td>volkswagen</td>\n",
       "      <td>no</td>\n",
       "      <td>2016-03-17 00:00:00</td>\n",
       "      <td>0</td>\n",
       "      <td>91074</td>\n",
       "      <td>2016-03-17 17:40:17</td>\n",
       "    </tr>\n",
       "    <tr>\n",
       "      <th>4</th>\n",
       "      <td>2016-03-31 17:25:20</td>\n",
       "      <td>3600</td>\n",
       "      <td>small</td>\n",
       "      <td>2008</td>\n",
       "      <td>manual</td>\n",
       "      <td>69</td>\n",
       "      <td>fabia</td>\n",
       "      <td>90000</td>\n",
       "      <td>7</td>\n",
       "      <td>gasoline</td>\n",
       "      <td>skoda</td>\n",
       "      <td>no</td>\n",
       "      <td>2016-03-31 00:00:00</td>\n",
       "      <td>0</td>\n",
       "      <td>60437</td>\n",
       "      <td>2016-04-06 10:17:21</td>\n",
       "    </tr>\n",
       "    <tr>\n",
       "      <th>...</th>\n",
       "      <td>...</td>\n",
       "      <td>...</td>\n",
       "      <td>...</td>\n",
       "      <td>...</td>\n",
       "      <td>...</td>\n",
       "      <td>...</td>\n",
       "      <td>...</td>\n",
       "      <td>...</td>\n",
       "      <td>...</td>\n",
       "      <td>...</td>\n",
       "      <td>...</td>\n",
       "      <td>...</td>\n",
       "      <td>...</td>\n",
       "      <td>...</td>\n",
       "      <td>...</td>\n",
       "      <td>...</td>\n",
       "    </tr>\n",
       "    <tr>\n",
       "      <th>354363</th>\n",
       "      <td>2016-03-27 20:36:20</td>\n",
       "      <td>1150</td>\n",
       "      <td>bus</td>\n",
       "      <td>2000</td>\n",
       "      <td>manual</td>\n",
       "      <td>0</td>\n",
       "      <td>zafira</td>\n",
       "      <td>150000</td>\n",
       "      <td>3</td>\n",
       "      <td>petrol</td>\n",
       "      <td>opel</td>\n",
       "      <td>no</td>\n",
       "      <td>2016-03-27 00:00:00</td>\n",
       "      <td>0</td>\n",
       "      <td>26624</td>\n",
       "      <td>2016-03-29 10:17:23</td>\n",
       "    </tr>\n",
       "    <tr>\n",
       "      <th>354364</th>\n",
       "      <td>2016-03-21 09:50:58</td>\n",
       "      <td>0</td>\n",
       "      <td>unknown</td>\n",
       "      <td>2005</td>\n",
       "      <td>manual</td>\n",
       "      <td>0</td>\n",
       "      <td>colt</td>\n",
       "      <td>150000</td>\n",
       "      <td>7</td>\n",
       "      <td>petrol</td>\n",
       "      <td>mitsubishi</td>\n",
       "      <td>yes</td>\n",
       "      <td>2016-03-21 00:00:00</td>\n",
       "      <td>0</td>\n",
       "      <td>2694</td>\n",
       "      <td>2016-03-21 10:42:49</td>\n",
       "    </tr>\n",
       "    <tr>\n",
       "      <th>354366</th>\n",
       "      <td>2016-03-05 19:56:21</td>\n",
       "      <td>1199</td>\n",
       "      <td>convertible</td>\n",
       "      <td>2000</td>\n",
       "      <td>auto</td>\n",
       "      <td>101</td>\n",
       "      <td>fortwo</td>\n",
       "      <td>125000</td>\n",
       "      <td>3</td>\n",
       "      <td>petrol</td>\n",
       "      <td>smart</td>\n",
       "      <td>no</td>\n",
       "      <td>2016-03-05 00:00:00</td>\n",
       "      <td>0</td>\n",
       "      <td>26135</td>\n",
       "      <td>2016-03-11 18:17:12</td>\n",
       "    </tr>\n",
       "    <tr>\n",
       "      <th>354367</th>\n",
       "      <td>2016-03-19 18:57:12</td>\n",
       "      <td>9200</td>\n",
       "      <td>bus</td>\n",
       "      <td>1996</td>\n",
       "      <td>manual</td>\n",
       "      <td>102</td>\n",
       "      <td>transporter</td>\n",
       "      <td>150000</td>\n",
       "      <td>3</td>\n",
       "      <td>gasoline</td>\n",
       "      <td>volkswagen</td>\n",
       "      <td>no</td>\n",
       "      <td>2016-03-19 00:00:00</td>\n",
       "      <td>0</td>\n",
       "      <td>87439</td>\n",
       "      <td>2016-04-07 07:15:26</td>\n",
       "    </tr>\n",
       "    <tr>\n",
       "      <th>354368</th>\n",
       "      <td>2016-03-20 19:41:08</td>\n",
       "      <td>3400</td>\n",
       "      <td>wagon</td>\n",
       "      <td>2002</td>\n",
       "      <td>manual</td>\n",
       "      <td>100</td>\n",
       "      <td>golf</td>\n",
       "      <td>150000</td>\n",
       "      <td>6</td>\n",
       "      <td>gasoline</td>\n",
       "      <td>volkswagen</td>\n",
       "      <td>unknown</td>\n",
       "      <td>2016-03-20 00:00:00</td>\n",
       "      <td>0</td>\n",
       "      <td>40764</td>\n",
       "      <td>2016-03-24 12:45:21</td>\n",
       "    </tr>\n",
       "  </tbody>\n",
       "</table>\n",
       "<p>350367 rows × 16 columns</p>\n",
       "</div>"
      ],
      "text/plain": [
       "                DateCrawled  Price  VehicleType  RegistrationYear Gearbox  \\\n",
       "0       2016-03-24 11:52:17    480      unknown              1993  manual   \n",
       "1       2016-03-24 10:58:45  18300        coupe              2011  manual   \n",
       "2       2016-03-14 12:52:21   9800          suv              2004    auto   \n",
       "3       2016-03-17 16:54:04   1500        small              2001  manual   \n",
       "4       2016-03-31 17:25:20   3600        small              2008  manual   \n",
       "...                     ...    ...          ...               ...     ...   \n",
       "354363  2016-03-27 20:36:20   1150          bus              2000  manual   \n",
       "354364  2016-03-21 09:50:58      0      unknown              2005  manual   \n",
       "354366  2016-03-05 19:56:21   1199  convertible              2000    auto   \n",
       "354367  2016-03-19 18:57:12   9200          bus              1996  manual   \n",
       "354368  2016-03-20 19:41:08   3400        wagon              2002  manual   \n",
       "\n",
       "        Power        Model  Kilometer  RegistrationMonth  FuelType  \\\n",
       "0           0         golf     150000                  0    petrol   \n",
       "1         190           a5     125000                  5  gasoline   \n",
       "2         163        grand     125000                  8  gasoline   \n",
       "3          75         golf     150000                  6    petrol   \n",
       "4          69        fabia      90000                  7  gasoline   \n",
       "...       ...          ...        ...                ...       ...   \n",
       "354363      0       zafira     150000                  3    petrol   \n",
       "354364      0         colt     150000                  7    petrol   \n",
       "354366    101       fortwo     125000                  3    petrol   \n",
       "354367    102  transporter     150000                  3  gasoline   \n",
       "354368    100         golf     150000                  6  gasoline   \n",
       "\n",
       "             Brand Repaired          DateCreated  NumberOfPictures  \\\n",
       "0       volkswagen  unknown  2016-03-24 00:00:00                 0   \n",
       "1             audi      yes  2016-03-24 00:00:00                 0   \n",
       "2             jeep  unknown  2016-03-14 00:00:00                 0   \n",
       "3       volkswagen       no  2016-03-17 00:00:00                 0   \n",
       "4            skoda       no  2016-03-31 00:00:00                 0   \n",
       "...            ...      ...                  ...               ...   \n",
       "354363        opel       no  2016-03-27 00:00:00                 0   \n",
       "354364  mitsubishi      yes  2016-03-21 00:00:00                 0   \n",
       "354366       smart       no  2016-03-05 00:00:00                 0   \n",
       "354367  volkswagen       no  2016-03-19 00:00:00                 0   \n",
       "354368  volkswagen  unknown  2016-03-20 00:00:00                 0   \n",
       "\n",
       "        PostalCode             LastSeen  \n",
       "0            70435  2016-04-07 03:16:57  \n",
       "1            66954  2016-04-07 01:46:50  \n",
       "2            90480  2016-04-05 12:47:46  \n",
       "3            91074  2016-03-17 17:40:17  \n",
       "4            60437  2016-04-06 10:17:21  \n",
       "...            ...                  ...  \n",
       "354363       26624  2016-03-29 10:17:23  \n",
       "354364        2694  2016-03-21 10:42:49  \n",
       "354366       26135  2016-03-11 18:17:12  \n",
       "354367       87439  2016-04-07 07:15:26  \n",
       "354368       40764  2016-03-24 12:45:21  \n",
       "\n",
       "[350367 rows x 16 columns]"
      ]
     },
     "execution_count": 7,
     "metadata": {},
     "output_type": "execute_result"
    }
   ],
   "source": [
    "data_clean.dropna()"
   ]
  },
  {
   "cell_type": "code",
   "execution_count": 8,
   "metadata": {
    "scrolled": false
   },
   "outputs": [
    {
     "name": "stdout",
     "output_type": "stream",
     "text": [
      "DateCrawled             0\n",
      "Price                   0\n",
      "VehicleType             0\n",
      "RegistrationYear        0\n",
      "Gearbox                 0\n",
      "Power                   0\n",
      "Model                3998\n",
      "Kilometer               0\n",
      "RegistrationMonth       0\n",
      "FuelType                0\n",
      "Brand                   0\n",
      "Repaired                0\n",
      "DateCreated             0\n",
      "NumberOfPictures        0\n",
      "PostalCode              0\n",
      "LastSeen                0\n",
      "dtype: int64\n"
     ]
    }
   ],
   "source": [
    "print(data_clean.isna().sum())"
   ]
  },
  {
   "cell_type": "markdown",
   "metadata": {},
   "source": [
    "Проверим адекватность цифровых значений в датасете"
   ]
  },
  {
   "cell_type": "code",
   "execution_count": 9,
   "metadata": {
    "scrolled": true
   },
   "outputs": [
    {
     "data": {
      "text/plain": [
       "0"
      ]
     },
     "metadata": {},
     "output_type": "display_data"
    },
    {
     "data": {
      "text/plain": [
       "0"
      ]
     },
     "metadata": {},
     "output_type": "display_data"
    }
   ],
   "source": [
    "data_clean = data_clean.drop(data_clean.query('Price == 0').index)\n",
    "display(data_clean.query('RegistrationYear == 0')['RegistrationYear'].count())\n",
    "data_clean = data_clean.drop(data_clean.query('Power == 0').index)\n",
    "display(data_clean.query('Kilometer == 0')['Kilometer'].count())\n",
    "data_clean = data_clean.drop('RegistrationMonth', axis=1)"
   ]
  },
  {
   "cell_type": "markdown",
   "metadata": {},
   "source": [
    "Строки со значение 0 мы удаляем, т.к. эти признаки не информативны. Мы сразу заменили код проверки значений на ноль на код \"удалить\". В виду наличия пропусков в столбце месяц регистрации, мы удалили весь столбец, предполагая, что данный параметр не должен влиять на стоимость автомобиля. "
   ]
  },
  {
   "cell_type": "markdown",
   "metadata": {},
   "source": [
    "Проверим столбцы Цена, Пробег и Мощность на выбросы"
   ]
  },
  {
   "cell_type": "code",
   "execution_count": 10,
   "metadata": {
    "scrolled": true
   },
   "outputs": [
    {
     "name": "stderr",
     "output_type": "stream",
     "text": [
      "/opt/conda/lib/python3.9/site-packages/seaborn/distributions.py:2557: FutureWarning: `distplot` is a deprecated function and will be removed in a future version. Please adapt your code to use either `displot` (a figure-level function with similar flexibility) or `histplot` (an axes-level function for histograms).\n",
      "  warnings.warn(msg, FutureWarning)\n"
     ]
    },
    {
     "name": "stdout",
     "output_type": "stream",
     "text": [
      "count    307233.000000\n",
      "mean       4809.878809\n",
      "std        4586.543041\n",
      "min           1.000000\n",
      "25%        1300.000000\n",
      "50%        3100.000000\n",
      "75%        6950.000000\n",
      "max       20000.000000\n",
      "Name: Price, dtype: float64\n",
      "Нижняя граница -15650.0 Верхняя граница 23900.0\n"
     ]
    },
    {
     "data": {
      "image/png": "[encoded data removed]",
      "text/plain": [
       "<Figure size 432x288 with 1 Axes>"
      ]
     },
     "metadata": {
      "needs_background": "light"
     },
     "output_type": "display_data"
    }
   ],
   "source": [
    "sns.distplot(data_clean['Price'].dropna())\n",
    "print(data_clean['Price'].describe())\n",
    "q1 = data_clean['Price'].quantile(0.25)\n",
    "q3 = data_clean['Price'].quantile(0.75)\n",
    "iqr = q3-q1\n",
    "lower_bound = q1 - 3*iqr\n",
    "upper_bound = q3 + 3*iqr\n",
    "print('Нижняя граница',lower_bound,'Верхняя граница', upper_bound)"
   ]
  },
  {
   "cell_type": "markdown",
   "metadata": {},
   "source": [
    "Все данные по ценам находятся в допустимых пределах. Исходя из порядка цен сложно понять их адекватность (не похоже на актуальные цены). Требуется экспертная оценка, но мы удалим цены ниже 100 евро. "
   ]
  },
  {
   "cell_type": "code",
   "execution_count": 11,
   "metadata": {
    "scrolled": false
   },
   "outputs": [
    {
     "data": {
      "text/plain": [
       "count    305989.000000\n",
       "mean       4829.328123\n",
       "std        4585.681244\n",
       "min         100.000000\n",
       "25%        1350.000000\n",
       "50%        3150.000000\n",
       "75%        6950.000000\n",
       "max       20000.000000\n",
       "Name: Price, dtype: float64"
      ]
     },
     "execution_count": 11,
     "metadata": {},
     "output_type": "execute_result"
    }
   ],
   "source": [
    "data_clean = data_clean.drop(data_clean.query('Price<100').index)\n",
    "data_clean['Price'].describe()\n"
   ]
  },
  {
   "cell_type": "code",
   "execution_count": 12,
   "metadata": {
    "scrolled": true
   },
   "outputs": [
    {
     "name": "stdout",
     "output_type": "stream",
     "text": [
      "count    305989.000000\n",
      "mean        124.160035\n",
      "std         194.849016\n",
      "min           1.000000\n",
      "25%          75.000000\n",
      "50%         110.000000\n",
      "75%         150.000000\n",
      "max       20000.000000\n",
      "Name: Power, dtype: float64\n",
      "Нижняя граница -150.0 Верхняя граница 375.0\n"
     ]
    },
    {
     "data": {
      "image/png": "[encoded data removed]",
      "text/plain": [
       "<Figure size 432x288 with 1 Axes>"
      ]
     },
     "metadata": {
      "needs_background": "light"
     },
     "output_type": "display_data"
    }
   ],
   "source": [
    "#sns.distplot(data_clean['Power'].dropna())\n",
    "data_clean.boxplot(column='Power')\n",
    "print(data_clean['Power'].describe())\n",
    "q1 = data_clean['Power'].quantile(0.25)\n",
    "q3 = data_clean['Power'].quantile(0.75)\n",
    "iqr = q3-q1\n",
    "lower_bound = q1 - 3*iqr\n",
    "upper_bound = q3 + 3*iqr\n",
    "print('Нижняя граница',lower_bound,'Верхняя граница', upper_bound)"
   ]
  },
  {
   "cell_type": "markdown",
   "metadata": {},
   "source": [
    "Анализ доверительного интервала показывает нам, что все данные выборки находятся в норме. Однако Мощность 1, 2, 3 сложно назвать нормальной! Мы удалим все значения меньше 100 и больше 2000. Это нижняя и верхняя граница, согласно открытых источников. "
   ]
  },
  {
   "cell_type": "code",
   "execution_count": 13,
   "metadata": {},
   "outputs": [
    {
     "data": {
      "text/plain": [
       "count    195322.000000\n",
       "mean        149.742922\n",
       "std          62.992327\n",
       "min         100.000000\n",
       "25%         115.000000\n",
       "50%         140.000000\n",
       "75%         170.000000\n",
       "max        2000.000000\n",
       "Name: Power, dtype: float64"
      ]
     },
     "execution_count": 13,
     "metadata": {},
     "output_type": "execute_result"
    }
   ],
   "source": [
    "data_clean = data_clean.drop(data_clean.query('Power<100|Power>2000').index)\n",
    "data_clean['Power'].describe()"
   ]
  },
  {
   "cell_type": "code",
   "execution_count": 14,
   "metadata": {},
   "outputs": [
    {
     "name": "stdout",
     "output_type": "stream",
     "text": [
      "count    195322.000000\n",
      "mean     131829.031036\n",
      "std       34163.140513\n",
      "min        5000.000000\n",
      "25%      125000.000000\n",
      "50%      150000.000000\n",
      "75%      150000.000000\n",
      "max      150000.000000\n",
      "Name: Kilometer, dtype: float64\n",
      "Нижняя граница 50000.0 Верхняя граница 225000.0\n"
     ]
    },
    {
     "data": {
      "image/png": "[encoded data removed]",
      "text/plain": [
       "<Figure size 432x288 with 1 Axes>"
      ]
     },
     "metadata": {
      "needs_background": "light"
     },
     "output_type": "display_data"
    }
   ],
   "source": [
    "data_clean.boxplot(column='Kilometer')\n",
    "#sns.distplot(data_clean['Power'].dropna())\n",
    "print(data_clean['Kilometer'].describe())\n",
    "q1 = data_clean['Kilometer'].quantile(0.25)\n",
    "q3 = data_clean['Kilometer'].quantile(0.75)\n",
    "iqr = q3-q1\n",
    "lower_bound = q1 - 3*iqr\n",
    "upper_bound = q3 + 3*iqr\n",
    "print('Нижняя граница',lower_bound,'Верхняя граница', upper_bound)"
   ]
  },
  {
   "cell_type": "markdown",
   "metadata": {},
   "source": [
    "Согласно анализа доверительного интервала есть значения, которые выходят за пределы нижней границы (50 000), однако, минимальныц пробег в 5000 это вполне вероятная ситуация. Данные оставляем."
   ]
  },
  {
   "cell_type": "markdown",
   "metadata": {},
   "source": [
    "Подготовим данные для обучения моделей. В обучающую выборку возбмем только столбцы, которые могут влиять на стоимость авто"
   ]
  },
  {
   "cell_type": "code",
   "execution_count": 16,
   "metadata": {
    "scrolled": false
   },
   "outputs": [],
   "source": [
    "data_clean['year_reg_web'] = pd.DatetimeIndex(data_clean['DateCreated']).year\n",
    "    \n",
    "for x in data_clean.query('year_reg_web < RegistrationYear').index:\n",
    "    data_clean.loc[x,'RegistrationYear']= 2016"
   ]
  },
  {
   "cell_type": "code",
   "execution_count": 17,
   "metadata": {},
   "outputs": [],
   "source": [
    "data_clean = data_clean.drop('year_reg_web', axis = 1)"
   ]
  },
  {
   "cell_type": "code",
   "execution_count": 18,
   "metadata": {},
   "outputs": [],
   "source": [
    "features = data_clean.drop(['DateCrawled','Price', 'DateCreated','LastSeen'], axis=1)\n",
    "target = data_clean['Price']"
   ]
  },
  {
   "cell_type": "code",
   "execution_count": 19,
   "metadata": {},
   "outputs": [],
   "source": [
    "train_features_0, test_features, train_target_0, test_target = train_test_split(\n",
    "                                features, target, test_size=0.2, random_state=12345)\n",
    "train_features, valid_features, train_target, valid_target = train_test_split(\n",
    "                                train_features_0, train_target_0, test_size=0.25, random_state=12345)"
   ]
  },
  {
   "cell_type": "code",
   "execution_count": 20,
   "metadata": {
    "scrolled": true
   },
   "outputs": [
    {
     "name": "stderr",
     "output_type": "stream",
     "text": [
      "/tmp/ipykernel_64/166633221.py:4: SettingWithCopyWarning: \n",
      "A value is trying to be set on a copy of a slice from a DataFrame.\n",
      "Try using .loc[row_indexer,col_indexer] = value instead\n",
      "\n",
      "See the caveats in the documentation: https://pandas.pydata.org/pandas-docs/stable/user_guide/indexing.html#returning-a-view-versus-a-copy\n",
      "  train_features_0[cat_columns] = encoder.fit_transform(train_features_0[cat_columns])\n",
      "/opt/conda/lib/python3.9/site-packages/pandas/core/indexing.py:1738: SettingWithCopyWarning: \n",
      "A value is trying to be set on a copy of a slice from a DataFrame.\n",
      "Try using .loc[row_indexer,col_indexer] = value instead\n",
      "\n",
      "See the caveats in the documentation: https://pandas.pydata.org/pandas-docs/stable/user_guide/indexing.html#returning-a-view-versus-a-copy\n",
      "  self._setitem_single_column(loc, value[:, i].tolist(), pi)\n",
      "/tmp/ipykernel_64/166633221.py:5: SettingWithCopyWarning: \n",
      "A value is trying to be set on a copy of a slice from a DataFrame.\n",
      "Try using .loc[row_indexer,col_indexer] = value instead\n",
      "\n",
      "See the caveats in the documentation: https://pandas.pydata.org/pandas-docs/stable/user_guide/indexing.html#returning-a-view-versus-a-copy\n",
      "  train_features[cat_columns] = encoder.transform(train_features[cat_columns])\n",
      "/opt/conda/lib/python3.9/site-packages/pandas/core/indexing.py:1738: SettingWithCopyWarning: \n",
      "A value is trying to be set on a copy of a slice from a DataFrame.\n",
      "Try using .loc[row_indexer,col_indexer] = value instead\n",
      "\n",
      "See the caveats in the documentation: https://pandas.pydata.org/pandas-docs/stable/user_guide/indexing.html#returning-a-view-versus-a-copy\n",
      "  self._setitem_single_column(loc, value[:, i].tolist(), pi)\n",
      "/tmp/ipykernel_64/166633221.py:12: SettingWithCopyWarning: \n",
      "A value is trying to be set on a copy of a slice from a DataFrame.\n",
      "Try using .loc[row_indexer,col_indexer] = value instead\n",
      "\n",
      "See the caveats in the documentation: https://pandas.pydata.org/pandas-docs/stable/user_guide/indexing.html#returning-a-view-versus-a-copy\n",
      "  test_features[cat_columns] = encoder.transform(test_features[cat_columns])\n",
      "/opt/conda/lib/python3.9/site-packages/pandas/core/indexing.py:1738: SettingWithCopyWarning: \n",
      "A value is trying to be set on a copy of a slice from a DataFrame.\n",
      "Try using .loc[row_indexer,col_indexer] = value instead\n",
      "\n",
      "See the caveats in the documentation: https://pandas.pydata.org/pandas-docs/stable/user_guide/indexing.html#returning-a-view-versus-a-copy\n",
      "  self._setitem_single_column(loc, value[:, i].tolist(), pi)\n"
     ]
    }
   ],
   "source": [
    "encoder = OrdinalEncoder(handle_unknown='ignore')\n",
    "cat_columns = ['VehicleType', 'Gearbox', 'Model', 'FuelType', 'Brand', 'Repaired','RegistrationYear']\n",
    "\n",
    "train_features_0[cat_columns] = encoder.fit_transform(train_features_0[cat_columns])\n",
    "train_features[cat_columns] = encoder.transform(train_features[cat_columns])\n",
    "#train_features_0[cat_columns] = encoder.transform(train_features_0[cat_columns])\n",
    "\n",
    "\n",
    "#valid_features = pd.DataFrame(encoder.fit_transform(valid_features),\n",
    "#columns=valid_features.columns)\n",
    "\n",
    "test_features[cat_columns] = encoder.transform(test_features[cat_columns])\n",
    "\n",
    "#features = pd.DataFrame(encoder.fit_transform(features),\n",
    "#columns=features.columns)\n"
   ]
  },
  {
   "cell_type": "markdown",
   "metadata": {},
   "source": [
    "## Обучение моделей"
   ]
  },
  {
   "cell_type": "code",
   "execution_count": 21,
   "metadata": {},
   "outputs": [],
   "source": [
    "from sklearn.metrics import make_scorer\n",
    "RMSE = make_scorer((mean_squared_error))\n"
   ]
  },
  {
   "cell_type": "markdown",
   "metadata": {},
   "source": [
    "Методом grid search найдем гиперпараменты для модели дерева решений"
   ]
  },
  {
   "cell_type": "code",
   "execution_count": 29,
   "metadata": {},
   "outputs": [
    {
     "name": "stdout",
     "output_type": "stream",
     "text": [
      "CPU times: user 12.8 s, sys: 24 ms, total: 12.8 s\n",
      "Wall time: 12.8 s\n"
     ]
    },
    {
     "data": {
      "text/plain": [
       "GridSearchCV(cv=5, estimator=DecisionTreeRegressor(random_state=12345),\n",
       "             n_jobs=-1,\n",
       "             param_grid={'max_depth': array([ 1,  2,  3,  4,  5,  6,  7,  8,  9, 10])},\n",
       "             scoring='neg_root_mean_squared_error')"
      ]
     },
     "execution_count": 29,
     "metadata": {},
     "output_type": "execute_result"
    }
   ],
   "source": [
    "%%time\n",
    "\n",
    "model = DecisionTreeRegressor(random_state=12345)\n",
    "grid_tree = GridSearchCV(\n",
    "    estimator=model,\n",
    "    param_grid={\n",
    "        'max_depth': np.arange(1, 11)\n",
    "    },\n",
    "    scoring='neg_root_mean_squared_error',\n",
    "    cv=5,\n",
    "    n_jobs=-1\n",
    ")\n",
    "\n",
    "grid_tree.fit(train_features_0, train_target_0)"
   ]
  },
  {
   "cell_type": "code",
   "execution_count": 30,
   "metadata": {},
   "outputs": [
    {
     "data": {
      "text/html": [
       "<div>\n",
       "<style scoped>\n",
       "    .dataframe tbody tr th:only-of-type {\n",
       "        vertical-align: middle;\n",
       "    }\n",
       "\n",
       "    .dataframe tbody tr th {\n",
       "        vertical-align: top;\n",
       "    }\n",
       "\n",
       "    .dataframe thead th {\n",
       "        text-align: right;\n",
       "    }\n",
       "</style>\n",
       "<table border=\"1\" class=\"dataframe\">\n",
       "  <thead>\n",
       "    <tr style=\"text-align: right;\">\n",
       "      <th></th>\n",
       "      <th>mean_fit_time</th>\n",
       "      <th>std_fit_time</th>\n",
       "      <th>mean_score_time</th>\n",
       "      <th>std_score_time</th>\n",
       "      <th>param_max_depth</th>\n",
       "      <th>params</th>\n",
       "      <th>split0_test_score</th>\n",
       "      <th>split1_test_score</th>\n",
       "      <th>split2_test_score</th>\n",
       "      <th>split3_test_score</th>\n",
       "      <th>split4_test_score</th>\n",
       "      <th>mean_test_score</th>\n",
       "      <th>std_test_score</th>\n",
       "      <th>rank_test_score</th>\n",
       "    </tr>\n",
       "  </thead>\n",
       "  <tbody>\n",
       "    <tr>\n",
       "      <th>0</th>\n",
       "      <td>0.057701</td>\n",
       "      <td>0.004699</td>\n",
       "      <td>0.005052</td>\n",
       "      <td>0.001069</td>\n",
       "      <td>1</td>\n",
       "      <td>{'max_depth': 1}</td>\n",
       "      <td>-3936.768405</td>\n",
       "      <td>-3922.309954</td>\n",
       "      <td>-3914.042387</td>\n",
       "      <td>-3904.903828</td>\n",
       "      <td>-3937.096869</td>\n",
       "      <td>-3923.024288</td>\n",
       "      <td>12.621206</td>\n",
       "      <td>10</td>\n",
       "    </tr>\n",
       "    <tr>\n",
       "      <th>1</th>\n",
       "      <td>0.097128</td>\n",
       "      <td>0.012466</td>\n",
       "      <td>0.004998</td>\n",
       "      <td>0.000711</td>\n",
       "      <td>2</td>\n",
       "      <td>{'max_depth': 2}</td>\n",
       "      <td>-3592.410785</td>\n",
       "      <td>-3583.876124</td>\n",
       "      <td>-3580.166556</td>\n",
       "      <td>-3559.951720</td>\n",
       "      <td>-3590.782800</td>\n",
       "      <td>-3581.437597</td>\n",
       "      <td>11.635708</td>\n",
       "      <td>9</td>\n",
       "    </tr>\n",
       "    <tr>\n",
       "      <th>2</th>\n",
       "      <td>0.138272</td>\n",
       "      <td>0.005975</td>\n",
       "      <td>0.005182</td>\n",
       "      <td>0.000628</td>\n",
       "      <td>3</td>\n",
       "      <td>{'max_depth': 3}</td>\n",
       "      <td>-3272.607450</td>\n",
       "      <td>-3241.864813</td>\n",
       "      <td>-3244.865784</td>\n",
       "      <td>-3224.902647</td>\n",
       "      <td>-3267.889500</td>\n",
       "      <td>-3250.426039</td>\n",
       "      <td>17.621816</td>\n",
       "      <td>8</td>\n",
       "    </tr>\n",
       "    <tr>\n",
       "      <th>3</th>\n",
       "      <td>0.204917</td>\n",
       "      <td>0.017727</td>\n",
       "      <td>0.005866</td>\n",
       "      <td>0.000750</td>\n",
       "      <td>4</td>\n",
       "      <td>{'max_depth': 4}</td>\n",
       "      <td>-2930.943046</td>\n",
       "      <td>-2919.657452</td>\n",
       "      <td>-2903.487475</td>\n",
       "      <td>-2900.380836</td>\n",
       "      <td>-2921.746893</td>\n",
       "      <td>-2915.243141</td>\n",
       "      <td>11.552971</td>\n",
       "      <td>7</td>\n",
       "    </tr>\n",
       "    <tr>\n",
       "      <th>4</th>\n",
       "      <td>0.216315</td>\n",
       "      <td>0.005843</td>\n",
       "      <td>0.005272</td>\n",
       "      <td>0.000256</td>\n",
       "      <td>5</td>\n",
       "      <td>{'max_depth': 5}</td>\n",
       "      <td>-2766.188891</td>\n",
       "      <td>-2754.482664</td>\n",
       "      <td>-2742.160263</td>\n",
       "      <td>-2737.099701</td>\n",
       "      <td>-2747.879790</td>\n",
       "      <td>-2749.562262</td>\n",
       "      <td>10.134998</td>\n",
       "      <td>6</td>\n",
       "    </tr>\n",
       "    <tr>\n",
       "      <th>5</th>\n",
       "      <td>0.255245</td>\n",
       "      <td>0.006122</td>\n",
       "      <td>0.005667</td>\n",
       "      <td>0.000359</td>\n",
       "      <td>6</td>\n",
       "      <td>{'max_depth': 6}</td>\n",
       "      <td>-2622.149652</td>\n",
       "      <td>-2612.754582</td>\n",
       "      <td>-2593.229932</td>\n",
       "      <td>-2599.273564</td>\n",
       "      <td>-2596.614960</td>\n",
       "      <td>-2604.804538</td>\n",
       "      <td>10.915022</td>\n",
       "      <td>5</td>\n",
       "    </tr>\n",
       "    <tr>\n",
       "      <th>6</th>\n",
       "      <td>0.317216</td>\n",
       "      <td>0.042272</td>\n",
       "      <td>0.007390</td>\n",
       "      <td>0.001492</td>\n",
       "      <td>7</td>\n",
       "      <td>{'max_depth': 7}</td>\n",
       "      <td>-2519.328045</td>\n",
       "      <td>-2519.754596</td>\n",
       "      <td>-2496.109936</td>\n",
       "      <td>-2498.436817</td>\n",
       "      <td>-2499.619293</td>\n",
       "      <td>-2506.649737</td>\n",
       "      <td>10.587194</td>\n",
       "      <td>4</td>\n",
       "    </tr>\n",
       "    <tr>\n",
       "      <th>7</th>\n",
       "      <td>0.327556</td>\n",
       "      <td>0.014270</td>\n",
       "      <td>0.006207</td>\n",
       "      <td>0.000042</td>\n",
       "      <td>8</td>\n",
       "      <td>{'max_depth': 8}</td>\n",
       "      <td>-2432.703354</td>\n",
       "      <td>-2414.950638</td>\n",
       "      <td>-2408.274628</td>\n",
       "      <td>-2405.190913</td>\n",
       "      <td>-2386.643259</td>\n",
       "      <td>-2409.552558</td>\n",
       "      <td>14.903635</td>\n",
       "      <td>3</td>\n",
       "    </tr>\n",
       "    <tr>\n",
       "      <th>8</th>\n",
       "      <td>0.367276</td>\n",
       "      <td>0.015178</td>\n",
       "      <td>0.006620</td>\n",
       "      <td>0.000121</td>\n",
       "      <td>9</td>\n",
       "      <td>{'max_depth': 9}</td>\n",
       "      <td>-2347.236259</td>\n",
       "      <td>-2337.294995</td>\n",
       "      <td>-2342.188634</td>\n",
       "      <td>-2336.796864</td>\n",
       "      <td>-2309.535781</td>\n",
       "      <td>-2334.610507</td>\n",
       "      <td>13.096306</td>\n",
       "      <td>2</td>\n",
       "    </tr>\n",
       "    <tr>\n",
       "      <th>9</th>\n",
       "      <td>0.416918</td>\n",
       "      <td>0.032304</td>\n",
       "      <td>0.008026</td>\n",
       "      <td>0.000714</td>\n",
       "      <td>10</td>\n",
       "      <td>{'max_depth': 10}</td>\n",
       "      <td>-2287.642496</td>\n",
       "      <td>-2271.293082</td>\n",
       "      <td>-2279.988665</td>\n",
       "      <td>-2283.959479</td>\n",
       "      <td>-2254.414373</td>\n",
       "      <td>-2275.459619</td>\n",
       "      <td>11.844364</td>\n",
       "      <td>1</td>\n",
       "    </tr>\n",
       "  </tbody>\n",
       "</table>\n",
       "</div>"
      ],
      "text/plain": [
       "   mean_fit_time  std_fit_time  mean_score_time  std_score_time  \\\n",
       "0       0.057701      0.004699         0.005052        0.001069   \n",
       "1       0.097128      0.012466         0.004998        0.000711   \n",
       "2       0.138272      0.005975         0.005182        0.000628   \n",
       "3       0.204917      0.017727         0.005866        0.000750   \n",
       "4       0.216315      0.005843         0.005272        0.000256   \n",
       "5       0.255245      0.006122         0.005667        0.000359   \n",
       "6       0.317216      0.042272         0.007390        0.001492   \n",
       "7       0.327556      0.014270         0.006207        0.000042   \n",
       "8       0.367276      0.015178         0.006620        0.000121   \n",
       "9       0.416918      0.032304         0.008026        0.000714   \n",
       "\n",
       "  param_max_depth             params  split0_test_score  split1_test_score  \\\n",
       "0               1   {'max_depth': 1}       -3936.768405       -3922.309954   \n",
       "1               2   {'max_depth': 2}       -3592.410785       -3583.876124   \n",
       "2               3   {'max_depth': 3}       -3272.607450       -3241.864813   \n",
       "3               4   {'max_depth': 4}       -2930.943046       -2919.657452   \n",
       "4               5   {'max_depth': 5}       -2766.188891       -2754.482664   \n",
       "5               6   {'max_depth': 6}       -2622.149652       -2612.754582   \n",
       "6               7   {'max_depth': 7}       -2519.328045       -2519.754596   \n",
       "7               8   {'max_depth': 8}       -2432.703354       -2414.950638   \n",
       "8               9   {'max_depth': 9}       -2347.236259       -2337.294995   \n",
       "9              10  {'max_depth': 10}       -2287.642496       -2271.293082   \n",
       "\n",
       "   split2_test_score  split3_test_score  split4_test_score  mean_test_score  \\\n",
       "0       -3914.042387       -3904.903828       -3937.096869     -3923.024288   \n",
       "1       -3580.166556       -3559.951720       -3590.782800     -3581.437597   \n",
       "2       -3244.865784       -3224.902647       -3267.889500     -3250.426039   \n",
       "3       -2903.487475       -2900.380836       -2921.746893     -2915.243141   \n",
       "4       -2742.160263       -2737.099701       -2747.879790     -2749.562262   \n",
       "5       -2593.229932       -2599.273564       -2596.614960     -2604.804538   \n",
       "6       -2496.109936       -2498.436817       -2499.619293     -2506.649737   \n",
       "7       -2408.274628       -2405.190913       -2386.643259     -2409.552558   \n",
       "8       -2342.188634       -2336.796864       -2309.535781     -2334.610507   \n",
       "9       -2279.988665       -2283.959479       -2254.414373     -2275.459619   \n",
       "\n",
       "   std_test_score  rank_test_score  \n",
       "0       12.621206               10  \n",
       "1       11.635708                9  \n",
       "2       17.621816                8  \n",
       "3       11.552971                7  \n",
       "4       10.134998                6  \n",
       "5       10.915022                5  \n",
       "6       10.587194                4  \n",
       "7       14.903635                3  \n",
       "8       13.096306                2  \n",
       "9       11.844364                1  "
      ]
     },
     "execution_count": 30,
     "metadata": {},
     "output_type": "execute_result"
    }
   ],
   "source": [
    "results = pd.DataFrame(grid_tree.cv_results_)\n",
    "results"
   ]
  },
  {
   "cell_type": "code",
   "execution_count": 31,
   "metadata": {},
   "outputs": [
    {
     "data": {
      "text/html": [
       "<div>\n",
       "<style scoped>\n",
       "    .dataframe tbody tr th:only-of-type {\n",
       "        vertical-align: middle;\n",
       "    }\n",
       "\n",
       "    .dataframe tbody tr th {\n",
       "        vertical-align: top;\n",
       "    }\n",
       "\n",
       "    .dataframe thead th {\n",
       "        text-align: right;\n",
       "    }\n",
       "</style>\n",
       "<table border=\"1\" class=\"dataframe\">\n",
       "  <thead>\n",
       "    <tr style=\"text-align: right;\">\n",
       "      <th></th>\n",
       "      <th>model</th>\n",
       "      <th>score</th>\n",
       "      <th>time_fit</th>\n",
       "      <th>time_predict</th>\n",
       "    </tr>\n",
       "  </thead>\n",
       "  <tbody>\n",
       "    <tr>\n",
       "      <th>0</th>\n",
       "      <td>0.0</td>\n",
       "      <td>0.0</td>\n",
       "      <td>0.0</td>\n",
       "      <td>0.0</td>\n",
       "    </tr>\n",
       "    <tr>\n",
       "      <th>1</th>\n",
       "      <td>0.0</td>\n",
       "      <td>0.0</td>\n",
       "      <td>0.0</td>\n",
       "      <td>0.0</td>\n",
       "    </tr>\n",
       "    <tr>\n",
       "      <th>2</th>\n",
       "      <td>0.0</td>\n",
       "      <td>0.0</td>\n",
       "      <td>0.0</td>\n",
       "      <td>0.0</td>\n",
       "    </tr>\n",
       "    <tr>\n",
       "      <th>3</th>\n",
       "      <td>0.0</td>\n",
       "      <td>0.0</td>\n",
       "      <td>0.0</td>\n",
       "      <td>0.0</td>\n",
       "    </tr>\n",
       "  </tbody>\n",
       "</table>\n",
       "</div>"
      ],
      "text/plain": [
       "   model  score  time_fit  time_predict\n",
       "0    0.0    0.0       0.0           0.0\n",
       "1    0.0    0.0       0.0           0.0\n",
       "2    0.0    0.0       0.0           0.0\n",
       "3    0.0    0.0       0.0           0.0"
      ]
     },
     "execution_count": 31,
     "metadata": {},
     "output_type": "execute_result"
    }
   ],
   "source": [
    "names = ['model','score','time_fit','time_predict'] \n",
    "best_model = pd.DataFrame(np.zeros((4,4)), columns=names)\n",
    "best_model"
   ]
  },
  {
   "cell_type": "code",
   "execution_count": 32,
   "metadata": {},
   "outputs": [
    {
     "data": {
      "text/html": [
       "<div>\n",
       "<style scoped>\n",
       "    .dataframe tbody tr th:only-of-type {\n",
       "        vertical-align: middle;\n",
       "    }\n",
       "\n",
       "    .dataframe tbody tr th {\n",
       "        vertical-align: top;\n",
       "    }\n",
       "\n",
       "    .dataframe thead th {\n",
       "        text-align: right;\n",
       "    }\n",
       "</style>\n",
       "<table border=\"1\" class=\"dataframe\">\n",
       "  <thead>\n",
       "    <tr style=\"text-align: right;\">\n",
       "      <th></th>\n",
       "      <th>model</th>\n",
       "      <th>score</th>\n",
       "      <th>time_fit</th>\n",
       "      <th>time_predict</th>\n",
       "    </tr>\n",
       "  </thead>\n",
       "  <tbody>\n",
       "    <tr>\n",
       "      <th>0</th>\n",
       "      <td>DecisionTreeRegressor(max_depth=10, random_sta...</td>\n",
       "      <td>-2275.459619</td>\n",
       "      <td>0.416918</td>\n",
       "      <td>0.008026</td>\n",
       "    </tr>\n",
       "    <tr>\n",
       "      <th>1</th>\n",
       "      <td>0.0</td>\n",
       "      <td>0.000000</td>\n",
       "      <td>0.000000</td>\n",
       "      <td>0.000000</td>\n",
       "    </tr>\n",
       "    <tr>\n",
       "      <th>2</th>\n",
       "      <td>0.0</td>\n",
       "      <td>0.000000</td>\n",
       "      <td>0.000000</td>\n",
       "      <td>0.000000</td>\n",
       "    </tr>\n",
       "    <tr>\n",
       "      <th>3</th>\n",
       "      <td>0.0</td>\n",
       "      <td>0.000000</td>\n",
       "      <td>0.000000</td>\n",
       "      <td>0.000000</td>\n",
       "    </tr>\n",
       "  </tbody>\n",
       "</table>\n",
       "</div>"
      ],
      "text/plain": [
       "                                               model        score  time_fit  \\\n",
       "0  DecisionTreeRegressor(max_depth=10, random_sta... -2275.459619  0.416918   \n",
       "1                                                0.0     0.000000  0.000000   \n",
       "2                                                0.0     0.000000  0.000000   \n",
       "3                                                0.0     0.000000  0.000000   \n",
       "\n",
       "   time_predict  \n",
       "0      0.008026  \n",
       "1      0.000000  \n",
       "2      0.000000  \n",
       "3      0.000000  "
      ]
     },
     "execution_count": 32,
     "metadata": {},
     "output_type": "execute_result"
    }
   ],
   "source": [
    "best_model.loc[0, 'score'] = grid_tree.best_score_\n",
    "best_model.loc[0, 'model'] = grid_tree.best_estimator_ \n",
    "best_model.loc[0, 'time_fit'] = results[results['rank_test_score'] == 1]['mean_fit_time'].values[0] \n",
    "best_model.loc[0, 'time_predict'] = results[results['rank_test_score'] == 1]['mean_score_time'].values[0]\n",
    "best_model"
   ]
  },
  {
   "cell_type": "markdown",
   "metadata": {},
   "source": [
    "Методом grid search найдем гиперпараменты для модели леса решений"
   ]
  },
  {
   "cell_type": "code",
   "execution_count": 33,
   "metadata": {},
   "outputs": [
    {
     "name": "stdout",
     "output_type": "stream",
     "text": [
      "CPU times: user 16min 21s, sys: 3.31 s, total: 16min 24s\n",
      "Wall time: 16min 25s\n"
     ]
    },
    {
     "data": {
      "text/plain": [
       "GridSearchCV(cv=5, estimator=RandomForestRegressor(random_state=12345),\n",
       "             param_grid={'max_depth': array([1, 2, 3, 4, 5]),\n",
       "                         'n_estimators': array([ 1, 11, 21, 31, 41, 51, 61, 71, 81, 91])},\n",
       "             scoring='neg_root_mean_squared_error')"
      ]
     },
     "execution_count": 33,
     "metadata": {},
     "output_type": "execute_result"
    }
   ],
   "source": [
    "%%time\n",
    "\n",
    "model = RandomForestRegressor(random_state=12345)\n",
    "grid_forest = GridSearchCV(\n",
    "    estimator=model,\n",
    "    param_grid={\n",
    "        'max_depth': np.arange(1, 6),\n",
    "        'n_estimators': np.arange(1, 100, step=10),\n",
    "    },\n",
    "    scoring='neg_root_mean_squared_error',\n",
    "    cv=5\n",
    ")\n",
    "\n",
    "grid_forest.fit(train_features_0, train_target_0)"
   ]
  },
  {
   "cell_type": "code",
   "execution_count": 34,
   "metadata": {},
   "outputs": [
    {
     "data": {
      "text/html": [
       "<div>\n",
       "<style scoped>\n",
       "    .dataframe tbody tr th:only-of-type {\n",
       "        vertical-align: middle;\n",
       "    }\n",
       "\n",
       "    .dataframe tbody tr th {\n",
       "        vertical-align: top;\n",
       "    }\n",
       "\n",
       "    .dataframe thead th {\n",
       "        text-align: right;\n",
       "    }\n",
       "</style>\n",
       "<table border=\"1\" class=\"dataframe\">\n",
       "  <thead>\n",
       "    <tr style=\"text-align: right;\">\n",
       "      <th></th>\n",
       "      <th>model</th>\n",
       "      <th>score</th>\n",
       "      <th>time_fit</th>\n",
       "      <th>time_predict</th>\n",
       "    </tr>\n",
       "  </thead>\n",
       "  <tbody>\n",
       "    <tr>\n",
       "      <th>0</th>\n",
       "      <td>DecisionTreeRegressor(max_depth=10, random_sta...</td>\n",
       "      <td>-2275.459619</td>\n",
       "      <td>0.416918</td>\n",
       "      <td>0.008026</td>\n",
       "    </tr>\n",
       "    <tr>\n",
       "      <th>1</th>\n",
       "      <td>0.0</td>\n",
       "      <td>-2657.224135</td>\n",
       "      <td>12.590413</td>\n",
       "      <td>0.112925</td>\n",
       "    </tr>\n",
       "    <tr>\n",
       "      <th>2</th>\n",
       "      <td>0.0</td>\n",
       "      <td>0.000000</td>\n",
       "      <td>0.000000</td>\n",
       "      <td>0.000000</td>\n",
       "    </tr>\n",
       "    <tr>\n",
       "      <th>3</th>\n",
       "      <td>0.0</td>\n",
       "      <td>0.000000</td>\n",
       "      <td>0.000000</td>\n",
       "      <td>0.000000</td>\n",
       "    </tr>\n",
       "  </tbody>\n",
       "</table>\n",
       "</div>"
      ],
      "text/plain": [
       "                                               model        score   time_fit  \\\n",
       "0  DecisionTreeRegressor(max_depth=10, random_sta... -2275.459619   0.416918   \n",
       "1                                                0.0 -2657.224135  12.590413   \n",
       "2                                                0.0     0.000000   0.000000   \n",
       "3                                                0.0     0.000000   0.000000   \n",
       "\n",
       "   time_predict  \n",
       "0      0.008026  \n",
       "1      0.112925  \n",
       "2      0.000000  \n",
       "3      0.000000  "
      ]
     },
     "execution_count": 34,
     "metadata": {},
     "output_type": "execute_result"
    }
   ],
   "source": [
    "results_1 = pd.DataFrame(grid_forest.cv_results_)\n",
    "\n",
    "best_model.loc[1, 'score'] = grid_forest.best_score_\n",
    "# best_model.loc[1, 'model'] = grid_forest.best_estimator_  # РУГАЕТСЯ на длинну значения?...\n",
    "best_model.loc[1, 'time_fit'] = results_1[results_1['rank_test_score'] == 1]['mean_fit_time'].values[0] \n",
    "best_model.loc[1, 'time_predict'] = results_1[results_1['rank_test_score'] == 1]['mean_score_time'].values[0]\n",
    "best_model"
   ]
  },
  {
   "cell_type": "markdown",
   "metadata": {},
   "source": [
    "Методом grid search найдем гиперпараменты для модели логистической регрессии"
   ]
  },
  {
   "cell_type": "code",
   "execution_count": 35,
   "metadata": {},
   "outputs": [
    {
     "name": "stdout",
     "output_type": "stream",
     "text": [
      "CPU times: user 587 ms, sys: 741 ms, total: 1.33 s\n",
      "Wall time: 1.29 s\n"
     ]
    },
    {
     "data": {
      "text/plain": [
       "GridSearchCV(cv=5, estimator=LinearRegression(), param_grid={},\n",
       "             scoring='neg_root_mean_squared_error')"
      ]
     },
     "execution_count": 35,
     "metadata": {},
     "output_type": "execute_result"
    }
   ],
   "source": [
    "%%time\n",
    "\n",
    "model = LinearRegression()\n",
    "grid_LinearRegression = GridSearchCV(\n",
    "    estimator=model,\n",
    "    param_grid={\n",
    "        \n",
    "    },\n",
    "    scoring='neg_root_mean_squared_error',\n",
    "    cv=5\n",
    ")\n",
    "\n",
    "grid_LinearRegression.fit(train_features_0, train_target_0)"
   ]
  },
  {
   "cell_type": "code",
   "execution_count": 36,
   "metadata": {},
   "outputs": [
    {
     "data": {
      "text/html": [
       "<div>\n",
       "<style scoped>\n",
       "    .dataframe tbody tr th:only-of-type {\n",
       "        vertical-align: middle;\n",
       "    }\n",
       "\n",
       "    .dataframe tbody tr th {\n",
       "        vertical-align: top;\n",
       "    }\n",
       "\n",
       "    .dataframe thead th {\n",
       "        text-align: right;\n",
       "    }\n",
       "</style>\n",
       "<table border=\"1\" class=\"dataframe\">\n",
       "  <thead>\n",
       "    <tr style=\"text-align: right;\">\n",
       "      <th></th>\n",
       "      <th>model</th>\n",
       "      <th>score</th>\n",
       "      <th>time_fit</th>\n",
       "      <th>time_predict</th>\n",
       "    </tr>\n",
       "  </thead>\n",
       "  <tbody>\n",
       "    <tr>\n",
       "      <th>0</th>\n",
       "      <td>DecisionTreeRegressor(max_depth=10, random_sta...</td>\n",
       "      <td>-2275.459619</td>\n",
       "      <td>0.416918</td>\n",
       "      <td>0.008026</td>\n",
       "    </tr>\n",
       "    <tr>\n",
       "      <th>1</th>\n",
       "      <td>0.0</td>\n",
       "      <td>-2657.224135</td>\n",
       "      <td>12.590413</td>\n",
       "      <td>0.112925</td>\n",
       "    </tr>\n",
       "    <tr>\n",
       "      <th>2</th>\n",
       "      <td>LinearRegression()</td>\n",
       "      <td>-3389.532833</td>\n",
       "      <td>0.155633</td>\n",
       "      <td>0.071462</td>\n",
       "    </tr>\n",
       "    <tr>\n",
       "      <th>3</th>\n",
       "      <td>0.0</td>\n",
       "      <td>0.000000</td>\n",
       "      <td>0.000000</td>\n",
       "      <td>0.000000</td>\n",
       "    </tr>\n",
       "  </tbody>\n",
       "</table>\n",
       "</div>"
      ],
      "text/plain": [
       "                                               model        score   time_fit  \\\n",
       "0  DecisionTreeRegressor(max_depth=10, random_sta... -2275.459619   0.416918   \n",
       "1                                                0.0 -2657.224135  12.590413   \n",
       "2                                 LinearRegression() -3389.532833   0.155633   \n",
       "3                                                0.0     0.000000   0.000000   \n",
       "\n",
       "   time_predict  \n",
       "0      0.008026  \n",
       "1      0.112925  \n",
       "2      0.071462  \n",
       "3      0.000000  "
      ]
     },
     "execution_count": 36,
     "metadata": {},
     "output_type": "execute_result"
    }
   ],
   "source": [
    "results_2 = pd.DataFrame(grid_LinearRegression.cv_results_)\n",
    "\n",
    "best_model.loc[2, 'score'] = grid_LinearRegression.best_score_\n",
    "best_model.loc[2, 'model'] = grid_LinearRegression.best_estimator_ \n",
    "best_model.loc[2, 'time_fit'] = results_2[results_2['rank_test_score'] == 1]['mean_fit_time'].values[0] \n",
    "best_model.loc[2, 'time_predict'] = results_2[results_2['rank_test_score'] == 1]['mean_score_time'].values[0]\n",
    "best_model"
   ]
  },
  {
   "cell_type": "markdown",
   "metadata": {},
   "source": [
    "Методом grid search найдем гиперпараменты для модели градиентного бустинга"
   ]
  },
  {
   "cell_type": "code",
   "execution_count": 37,
   "metadata": {},
   "outputs": [
    {
     "name": "stdout",
     "output_type": "stream",
     "text": [
      "CPU times: user 7min 13s, sys: 9.87 s, total: 7min 23s\n",
      "Wall time: 7min 25s\n"
     ]
    },
    {
     "data": {
      "text/plain": [
       "GridSearchCV(cv=5, estimator=LGBMRegressor(random_state=12345),\n",
       "             param_grid={'max_depth': array([1, 2]),\n",
       "                         'n_estimators': array([ 1, 11, 21, 31, 41])},\n",
       "             scoring='neg_root_mean_squared_error')"
      ]
     },
     "execution_count": 37,
     "metadata": {},
     "output_type": "execute_result"
    }
   ],
   "source": [
    "%%time\n",
    "\n",
    "model = LGBMRegressor(random_state=12345)\n",
    "#gbm.fit(train_features,  train_target, eval_set=[(valid_features, valid_target)], eval_metric='rmse', verbose=10)\n",
    "\n",
    "grid_boosting = GridSearchCV(\n",
    "    estimator=model,\n",
    "    param_grid={\n",
    "        'max_depth': np.arange(1, 3),\n",
    "        'n_estimators': np.arange(1, 51, step=10),\n",
    "        #'num_leaves': [7, 14, 21, 28, 31, 50],\n",
    "        #'learning_rate':\n",
    "    },\n",
    "    scoring='neg_root_mean_squared_error',\n",
    "    cv=5\n",
    ")\n",
    "\n",
    "grid_boosting.fit(train_features_0, train_target_0)"
   ]
  },
  {
   "cell_type": "code",
   "execution_count": 38,
   "metadata": {},
   "outputs": [
    {
     "data": {
      "text/html": [
       "<div>\n",
       "<style scoped>\n",
       "    .dataframe tbody tr th:only-of-type {\n",
       "        vertical-align: middle;\n",
       "    }\n",
       "\n",
       "    .dataframe tbody tr th {\n",
       "        vertical-align: top;\n",
       "    }\n",
       "\n",
       "    .dataframe thead th {\n",
       "        text-align: right;\n",
       "    }\n",
       "</style>\n",
       "<table border=\"1\" class=\"dataframe\">\n",
       "  <thead>\n",
       "    <tr style=\"text-align: right;\">\n",
       "      <th></th>\n",
       "      <th>model</th>\n",
       "      <th>score</th>\n",
       "      <th>time_fit</th>\n",
       "      <th>time_predict</th>\n",
       "    </tr>\n",
       "  </thead>\n",
       "  <tbody>\n",
       "    <tr>\n",
       "      <th>0</th>\n",
       "      <td>DecisionTreeRegressor(max_depth=10, random_sta...</td>\n",
       "      <td>-2275.459619</td>\n",
       "      <td>0.416918</td>\n",
       "      <td>0.008026</td>\n",
       "    </tr>\n",
       "    <tr>\n",
       "      <th>1</th>\n",
       "      <td>0.0</td>\n",
       "      <td>-2657.224135</td>\n",
       "      <td>12.590413</td>\n",
       "      <td>0.112925</td>\n",
       "    </tr>\n",
       "    <tr>\n",
       "      <th>2</th>\n",
       "      <td>LinearRegression()</td>\n",
       "      <td>-3389.532833</td>\n",
       "      <td>0.155633</td>\n",
       "      <td>0.071462</td>\n",
       "    </tr>\n",
       "    <tr>\n",
       "      <th>3</th>\n",
       "      <td>LGBMRegressor(max_depth=2, n_estimators=41, ra...</td>\n",
       "      <td>-2625.712771</td>\n",
       "      <td>19.577966</td>\n",
       "      <td>0.122383</td>\n",
       "    </tr>\n",
       "  </tbody>\n",
       "</table>\n",
       "</div>"
      ],
      "text/plain": [
       "                                               model        score   time_fit  \\\n",
       "0  DecisionTreeRegressor(max_depth=10, random_sta... -2275.459619   0.416918   \n",
       "1                                                0.0 -2657.224135  12.590413   \n",
       "2                                 LinearRegression() -3389.532833   0.155633   \n",
       "3  LGBMRegressor(max_depth=2, n_estimators=41, ra... -2625.712771  19.577966   \n",
       "\n",
       "   time_predict  \n",
       "0      0.008026  \n",
       "1      0.112925  \n",
       "2      0.071462  \n",
       "3      0.122383  "
      ]
     },
     "execution_count": 38,
     "metadata": {},
     "output_type": "execute_result"
    }
   ],
   "source": [
    "results_3 = pd.DataFrame(grid_boosting.cv_results_)\n",
    "\n",
    "best_model.loc[3, 'score'] = grid_boosting.best_score_\n",
    "best_model.loc[3, 'model'] = grid_boosting.best_estimator_ \n",
    "best_model.loc[3, 'time_fit'] = results_3[results_3['rank_test_score'] == 1]['mean_fit_time'].values[0] \n",
    "best_model.loc[3, 'time_predict'] = results_3[results_3['rank_test_score'] == 1]['mean_score_time'].values[0]\n",
    "best_model"
   ]
  },
  {
   "cell_type": "markdown",
   "metadata": {},
   "source": [
    "## Анализ моделей"
   ]
  },
  {
   "cell_type": "markdown",
   "metadata": {},
   "source": [
    "Протестируем выбранную модель на тестовых данных."
   ]
  },
  {
   "cell_type": "code",
   "execution_count": 98,
   "metadata": {},
   "outputs": [
    {
     "data": {
      "text/plain": [
       "2271.736403392562"
      ]
     },
     "execution_count": 98,
     "metadata": {},
     "output_type": "execute_result"
    }
   ],
   "source": [
    "pred = grid_tree.predict(test_features)\n",
    "RMSE = mean_squared_error(test_target, pred)**0.5\n",
    "RMSE"
   ]
  },
  {
   "cell_type": "code",
   "execution_count": 27,
   "metadata": {},
   "outputs": [
    {
     "data": {
      "text/plain": [
       "4942.966256909013"
      ]
     },
     "execution_count": 27,
     "metadata": {},
     "output_type": "execute_result"
    }
   ],
   "source": [
    "from sklearn.dummy import DummyRegressor\n",
    "dummy_clf = DummyRegressor()\n",
    "dummy_clf.fit(train_features, train_target)\n",
    "pred_dummy = dummy_clf.predict(test_features)\n",
    "\n",
    "RMSE = mean_squared_error(test_target, pred_dummy)**0.5\n",
    "RMSE"
   ]
  }
 ],
 "metadata": {
  "ExecuteTimeLog": [
   {
    "duration": 409,
    "start_time": "2022-12-16T06:03:09.430Z"
   },
   {
    "duration": 2764,
    "start_time": "2022-12-16T06:03:25.618Z"
   },
   {
    "duration": 922,
    "start_time": "2022-12-16T06:04:00.908Z"
   },
   {
    "duration": 846,
    "start_time": "2022-12-16T06:06:40.620Z"
   },
   {
    "duration": 59,
    "start_time": "2022-12-16T06:10:16.416Z"
   },
   {
    "duration": 529,
    "start_time": "2022-12-16T06:10:31.884Z"
   },
   {
    "duration": 520,
    "start_time": "2022-12-16T06:10:45.975Z"
   },
   {
    "duration": 12,
    "start_time": "2022-12-16T06:11:59.015Z"
   },
   {
    "duration": 809,
    "start_time": "2022-12-16T06:12:26.022Z"
   },
   {
    "duration": 819,
    "start_time": "2022-12-16T06:13:11.102Z"
   },
   {
    "duration": 816,
    "start_time": "2022-12-16T06:13:20.432Z"
   },
   {
    "duration": 806,
    "start_time": "2022-12-16T06:13:37.798Z"
   },
   {
    "duration": 812,
    "start_time": "2022-12-16T06:13:44.280Z"
   },
   {
    "duration": 624,
    "start_time": "2022-12-16T06:21:27.377Z"
   },
   {
    "duration": 582,
    "start_time": "2022-12-16T06:21:37.216Z"
   },
   {
    "duration": 68,
    "start_time": "2022-12-16T06:21:52.032Z"
   },
   {
    "duration": 1119,
    "start_time": "2022-12-16T06:22:02.520Z"
   },
   {
    "duration": 7,
    "start_time": "2022-12-16T06:23:53.491Z"
   },
   {
    "duration": 28,
    "start_time": "2022-12-16T06:25:36.095Z"
   },
   {
    "duration": 24,
    "start_time": "2022-12-16T06:25:53.003Z"
   },
   {
    "duration": 38,
    "start_time": "2022-12-16T06:26:46.228Z"
   },
   {
    "duration": 51,
    "start_time": "2022-12-16T06:28:45.860Z"
   },
   {
    "duration": 65,
    "start_time": "2022-12-16T06:29:11.820Z"
   },
   {
    "duration": 53,
    "start_time": "2022-12-16T06:29:19.994Z"
   },
   {
    "duration": 42,
    "start_time": "2022-12-16T06:30:33.410Z"
   },
   {
    "duration": 41,
    "start_time": "2022-12-16T06:32:28.250Z"
   },
   {
    "duration": 22,
    "start_time": "2022-12-16T06:37:17.016Z"
   },
   {
    "duration": 47,
    "start_time": "2022-12-16T06:38:25.226Z"
   },
   {
    "duration": 42,
    "start_time": "2022-12-16T06:38:34.510Z"
   },
   {
    "duration": 47,
    "start_time": "2022-12-16T06:40:46.693Z"
   },
   {
    "duration": 116,
    "start_time": "2022-12-16T06:46:41.895Z"
   },
   {
    "duration": 21,
    "start_time": "2022-12-16T06:46:57.624Z"
   },
   {
    "duration": 18,
    "start_time": "2022-12-16T06:47:21.248Z"
   },
   {
    "duration": 16,
    "start_time": "2022-12-16T06:47:35.559Z"
   },
   {
    "duration": 10,
    "start_time": "2022-12-16T06:48:39.296Z"
   },
   {
    "duration": 11,
    "start_time": "2022-12-16T06:49:23.708Z"
   },
   {
    "duration": 8,
    "start_time": "2022-12-16T06:49:46.725Z"
   },
   {
    "duration": 69,
    "start_time": "2022-12-16T06:49:59.240Z"
   },
   {
    "duration": 62,
    "start_time": "2022-12-16T06:50:14.853Z"
   },
   {
    "duration": 869,
    "start_time": "2022-12-16T06:50:23.899Z"
   },
   {
    "duration": 843,
    "start_time": "2022-12-16T06:50:32.169Z"
   },
   {
    "duration": 62,
    "start_time": "2022-12-16T06:50:38.033Z"
   },
   {
    "duration": 56,
    "start_time": "2022-12-16T06:50:53.220Z"
   },
   {
    "duration": 144,
    "start_time": "2022-12-16T06:51:48.424Z"
   },
   {
    "duration": 10,
    "start_time": "2022-12-16T07:03:23.854Z"
   },
   {
    "duration": 191,
    "start_time": "2022-12-16T07:03:49.045Z"
   },
   {
    "duration": 1997,
    "start_time": "2022-12-16T07:14:50.806Z"
   },
   {
    "duration": 97,
    "start_time": "2022-12-16T07:16:38.991Z"
   },
   {
    "duration": 1421,
    "start_time": "2022-12-16T07:16:47.968Z"
   },
   {
    "duration": 1437,
    "start_time": "2022-12-16T07:17:03.468Z"
   },
   {
    "duration": 1424,
    "start_time": "2022-12-16T07:17:58.360Z"
   },
   {
    "duration": 1227,
    "start_time": "2022-12-16T07:18:23.646Z"
   },
   {
    "duration": 35,
    "start_time": "2022-12-16T07:18:57.499Z"
   },
   {
    "duration": 4,
    "start_time": "2022-12-16T07:19:12.760Z"
   },
   {
    "duration": 33,
    "start_time": "2022-12-16T07:20:25.602Z"
   },
   {
    "duration": 1411,
    "start_time": "2022-12-16T07:21:14.200Z"
   },
   {
    "duration": 164,
    "start_time": "2022-12-16T07:21:53.159Z"
   },
   {
    "duration": 21,
    "start_time": "2022-12-16T07:22:12.357Z"
   },
   {
    "duration": 64,
    "start_time": "2022-12-16T07:23:27.865Z"
   },
   {
    "duration": 1192,
    "start_time": "2022-12-16T07:23:41.519Z"
   },
   {
    "duration": 3,
    "start_time": "2022-12-16T07:24:40.188Z"
   },
   {
    "duration": 1457,
    "start_time": "2022-12-16T07:25:01.306Z"
   },
   {
    "duration": 1202,
    "start_time": "2022-12-16T07:25:08.598Z"
   },
   {
    "duration": 1159,
    "start_time": "2022-12-16T07:25:19.824Z"
   },
   {
    "duration": 31,
    "start_time": "2022-12-16T07:25:24.184Z"
   },
   {
    "duration": 4,
    "start_time": "2022-12-16T07:25:46.427Z"
   },
   {
    "duration": 38,
    "start_time": "2022-12-16T07:25:58.081Z"
   },
   {
    "duration": 23,
    "start_time": "2022-12-16T07:26:05.448Z"
   },
   {
    "duration": 64,
    "start_time": "2022-12-16T07:26:29.280Z"
   },
   {
    "duration": 50,
    "start_time": "2022-12-16T07:26:44.944Z"
   },
   {
    "duration": 46,
    "start_time": "2022-12-16T07:26:47.040Z"
   },
   {
    "duration": 22,
    "start_time": "2022-12-16T07:26:53.321Z"
   },
   {
    "duration": 70,
    "start_time": "2022-12-16T07:27:07.849Z"
   },
   {
    "duration": 79,
    "start_time": "2022-12-16T07:28:01.571Z"
   },
   {
    "duration": 69,
    "start_time": "2022-12-16T07:28:08.493Z"
   },
   {
    "duration": 902,
    "start_time": "2022-12-16T07:28:20.482Z"
   },
   {
    "duration": 906,
    "start_time": "2022-12-16T07:28:27.444Z"
   },
   {
    "duration": 152,
    "start_time": "2022-12-16T07:28:34.990Z"
   },
   {
    "duration": 82,
    "start_time": "2022-12-16T07:28:39.549Z"
   },
   {
    "duration": 39,
    "start_time": "2022-12-16T07:28:44.945Z"
   },
   {
    "duration": 39,
    "start_time": "2022-12-16T07:29:21.024Z"
   },
   {
    "duration": 0,
    "start_time": "2022-12-16T07:56:25.330Z"
   },
   {
    "duration": 0,
    "start_time": "2022-12-16T07:56:25.331Z"
   },
   {
    "duration": 0,
    "start_time": "2022-12-16T07:56:25.333Z"
   },
   {
    "duration": 0,
    "start_time": "2022-12-16T07:56:25.334Z"
   },
   {
    "duration": 0,
    "start_time": "2022-12-16T07:56:25.336Z"
   },
   {
    "duration": 0,
    "start_time": "2022-12-16T07:56:25.337Z"
   },
   {
    "duration": 3,
    "start_time": "2022-12-16T07:56:29.144Z"
   },
   {
    "duration": 862,
    "start_time": "2022-12-16T07:56:32.271Z"
   },
   {
    "duration": 542,
    "start_time": "2022-12-16T07:56:50.216Z"
   },
   {
    "duration": 886,
    "start_time": "2022-12-16T07:56:56.850Z"
   },
   {
    "duration": 151,
    "start_time": "2022-12-16T07:57:12.093Z"
   },
   {
    "duration": 53,
    "start_time": "2022-12-16T07:57:17.556Z"
   },
   {
    "duration": 1165,
    "start_time": "2022-12-16T07:57:22.241Z"
   },
   {
    "duration": 8977,
    "start_time": "2022-12-16T07:59:21.156Z"
   },
   {
    "duration": 41,
    "start_time": "2022-12-16T08:00:09.915Z"
   },
   {
    "duration": 29,
    "start_time": "2022-12-16T08:00:30.294Z"
   },
   {
    "duration": 32,
    "start_time": "2022-12-16T08:00:39.809Z"
   },
   {
    "duration": 33,
    "start_time": "2022-12-16T08:00:50.821Z"
   },
   {
    "duration": 39,
    "start_time": "2022-12-16T08:04:48.381Z"
   },
   {
    "duration": 39,
    "start_time": "2022-12-16T08:05:01.009Z"
   },
   {
    "duration": 115,
    "start_time": "2022-12-16T08:06:22.913Z"
   },
   {
    "duration": 117,
    "start_time": "2022-12-16T08:06:55.219Z"
   },
   {
    "duration": 155,
    "start_time": "2022-12-16T08:07:19.083Z"
   },
   {
    "duration": 23,
    "start_time": "2022-12-16T08:07:28.836Z"
   },
   {
    "duration": 39,
    "start_time": "2022-12-16T08:07:42.922Z"
   },
   {
    "duration": 31,
    "start_time": "2022-12-16T08:07:47.872Z"
   },
   {
    "duration": 36,
    "start_time": "2022-12-16T08:08:17.895Z"
   },
   {
    "duration": 41,
    "start_time": "2022-12-16T08:09:16.741Z"
   },
   {
    "duration": 48,
    "start_time": "2022-12-16T08:13:09.043Z"
   },
   {
    "duration": 30,
    "start_time": "2022-12-16T08:13:30.266Z"
   },
   {
    "duration": 31,
    "start_time": "2022-12-16T08:13:39.418Z"
   },
   {
    "duration": 32,
    "start_time": "2022-12-16T08:13:57.430Z"
   },
   {
    "duration": 32,
    "start_time": "2022-12-16T08:14:17.579Z"
   },
   {
    "duration": 32,
    "start_time": "2022-12-16T08:14:26.085Z"
   },
   {
    "duration": 34,
    "start_time": "2022-12-16T08:14:38.243Z"
   },
   {
    "duration": 38,
    "start_time": "2022-12-16T08:14:46.817Z"
   },
   {
    "duration": 1511,
    "start_time": "2022-12-16T08:15:23.732Z"
   },
   {
    "duration": 35,
    "start_time": "2022-12-16T08:16:23.693Z"
   },
   {
    "duration": 907,
    "start_time": "2022-12-16T08:16:36.598Z"
   },
   {
    "duration": 370,
    "start_time": "2022-12-16T11:18:08.942Z"
   },
   {
    "duration": 1248,
    "start_time": "2022-12-16T11:18:11.368Z"
   },
   {
    "duration": 580,
    "start_time": "2022-12-16T11:18:17.519Z"
   },
   {
    "duration": 850,
    "start_time": "2022-12-16T11:18:23.974Z"
   },
   {
    "duration": 167,
    "start_time": "2022-12-16T11:18:29.599Z"
   },
   {
    "duration": 54,
    "start_time": "2022-12-16T11:18:34.872Z"
   },
   {
    "duration": 109,
    "start_time": "2022-12-16T11:19:18.205Z"
   },
   {
    "duration": 35,
    "start_time": "2022-12-16T11:19:39.615Z"
   },
   {
    "duration": 6,
    "start_time": "2022-12-16T11:20:12.271Z"
   },
   {
    "duration": 6,
    "start_time": "2022-12-16T11:20:19.654Z"
   },
   {
    "duration": 68,
    "start_time": "2022-12-16T11:21:36.207Z"
   },
   {
    "duration": 9,
    "start_time": "2022-12-16T11:22:57.594Z"
   },
   {
    "duration": 7,
    "start_time": "2022-12-16T11:23:43.310Z"
   },
   {
    "duration": 1222,
    "start_time": "2022-12-16T11:25:03.198Z"
   },
   {
    "duration": 720,
    "start_time": "2022-12-16T11:25:31.133Z"
   },
   {
    "duration": 692,
    "start_time": "2022-12-16T11:25:36.416Z"
   },
   {
    "duration": 745,
    "start_time": "2022-12-16T11:26:32.999Z"
   },
   {
    "duration": 739,
    "start_time": "2022-12-16T11:26:57.486Z"
   },
   {
    "duration": 4,
    "start_time": "2022-12-16T11:27:08.731Z"
   },
   {
    "duration": 9,
    "start_time": "2022-12-16T11:27:11.519Z"
   },
   {
    "duration": 3,
    "start_time": "2022-12-16T11:27:29.603Z"
   },
   {
    "duration": 4,
    "start_time": "2022-12-16T11:27:35.978Z"
   },
   {
    "duration": 9,
    "start_time": "2022-12-16T11:27:56.581Z"
   },
   {
    "duration": 8,
    "start_time": "2022-12-16T11:28:02.840Z"
   },
   {
    "duration": 9,
    "start_time": "2022-12-16T11:28:20.047Z"
   },
   {
    "duration": 8,
    "start_time": "2022-12-16T11:29:44.208Z"
   },
   {
    "duration": 7,
    "start_time": "2022-12-16T11:29:56.952Z"
   },
   {
    "duration": 3,
    "start_time": "2022-12-16T11:31:25.422Z"
   },
   {
    "duration": 43,
    "start_time": "2022-12-16T11:32:04.349Z"
   },
   {
    "duration": 7,
    "start_time": "2022-12-16T11:32:16.705Z"
   },
   {
    "duration": 7,
    "start_time": "2022-12-16T11:32:23.311Z"
   },
   {
    "duration": 4,
    "start_time": "2022-12-16T11:32:34.111Z"
   },
   {
    "duration": 4,
    "start_time": "2022-12-16T11:33:39.941Z"
   },
   {
    "duration": 835,
    "start_time": "2022-12-16T11:34:01.024Z"
   },
   {
    "duration": 1825,
    "start_time": "2022-12-16T11:34:17.112Z"
   },
   {
    "duration": 1763,
    "start_time": "2022-12-16T11:34:58.391Z"
   },
   {
    "duration": 1818,
    "start_time": "2022-12-16T11:36:15.616Z"
   },
   {
    "duration": 1779,
    "start_time": "2022-12-16T11:36:33.611Z"
   },
   {
    "duration": 4,
    "start_time": "2022-12-16T11:36:47.259Z"
   },
   {
    "duration": 4,
    "start_time": "2022-12-16T11:36:51.807Z"
   },
   {
    "duration": 3,
    "start_time": "2022-12-16T11:37:00.475Z"
   },
   {
    "duration": 20,
    "start_time": "2022-12-16T11:37:42.341Z"
   },
   {
    "duration": 4,
    "start_time": "2022-12-16T11:38:01.436Z"
   },
   {
    "duration": 4,
    "start_time": "2022-12-16T11:38:07.611Z"
   },
   {
    "duration": 6,
    "start_time": "2022-12-16T11:38:16.611Z"
   },
   {
    "duration": 7,
    "start_time": "2022-12-16T11:39:48.832Z"
   },
   {
    "duration": 7,
    "start_time": "2022-12-16T11:40:03.224Z"
   },
   {
    "duration": 6,
    "start_time": "2022-12-16T11:40:35.225Z"
   },
   {
    "duration": 7,
    "start_time": "2022-12-16T11:40:38.387Z"
   },
   {
    "duration": 7,
    "start_time": "2022-12-16T11:41:02.718Z"
   },
   {
    "duration": 10,
    "start_time": "2022-12-16T11:41:23.198Z"
   },
   {
    "duration": 8,
    "start_time": "2022-12-16T11:41:41.030Z"
   },
   {
    "duration": 65,
    "start_time": "2022-12-16T11:42:16.697Z"
   },
   {
    "duration": 8,
    "start_time": "2022-12-16T11:42:28.244Z"
   },
   {
    "duration": 7,
    "start_time": "2022-12-16T11:43:21.151Z"
   },
   {
    "duration": 7,
    "start_time": "2022-12-16T11:43:26.924Z"
   },
   {
    "duration": 7,
    "start_time": "2022-12-16T11:43:32.146Z"
   },
   {
    "duration": 98,
    "start_time": "2022-12-16T11:46:00.881Z"
   },
   {
    "duration": 103,
    "start_time": "2022-12-16T11:46:04.292Z"
   },
   {
    "duration": 46,
    "start_time": "2022-12-16T11:46:12.463Z"
   },
   {
    "duration": 832,
    "start_time": "2022-12-16T11:46:16.726Z"
   },
   {
    "duration": 97,
    "start_time": "2022-12-16T11:46:38.370Z"
   },
   {
    "duration": 94,
    "start_time": "2022-12-16T11:47:36.715Z"
   },
   {
    "duration": 4385,
    "start_time": "2022-12-16T11:48:22.961Z"
   },
   {
    "duration": 926,
    "start_time": "2022-12-16T11:49:02.163Z"
   },
   {
    "duration": 921,
    "start_time": "2022-12-16T11:49:12.350Z"
   },
   {
    "duration": 805,
    "start_time": "2022-12-16T11:49:19.653Z"
   },
   {
    "duration": 161,
    "start_time": "2022-12-16T11:49:23.661Z"
   },
   {
    "duration": 42,
    "start_time": "2022-12-16T11:49:28.937Z"
   },
   {
    "duration": 4415,
    "start_time": "2022-12-16T11:49:31.106Z"
   },
   {
    "duration": 96,
    "start_time": "2022-12-16T11:50:09.303Z"
   },
   {
    "duration": 97,
    "start_time": "2022-12-16T11:50:22.192Z"
   },
   {
    "duration": 5,
    "start_time": "2022-12-16T11:50:35.412Z"
   },
   {
    "duration": 40,
    "start_time": "2022-12-16T11:51:34.653Z"
   },
   {
    "duration": 20,
    "start_time": "2022-12-16T11:51:58.653Z"
   },
   {
    "duration": 7,
    "start_time": "2022-12-16T11:52:11.372Z"
   },
   {
    "duration": 34,
    "start_time": "2022-12-16T11:52:51.314Z"
   },
   {
    "duration": 32,
    "start_time": "2022-12-16T11:52:56.531Z"
   },
   {
    "duration": 34,
    "start_time": "2022-12-16T11:53:16.821Z"
   },
   {
    "duration": 168901,
    "start_time": "2022-12-16T11:55:11.728Z"
   },
   {
    "duration": 30,
    "start_time": "2022-12-16T11:58:18.106Z"
   },
   {
    "duration": 32,
    "start_time": "2022-12-16T11:58:35.781Z"
   },
   {
    "duration": 43,
    "start_time": "2022-12-16T11:59:32.537Z"
   },
   {
    "duration": 66,
    "start_time": "2022-12-16T12:01:12.535Z"
   },
   {
    "duration": 64,
    "start_time": "2022-12-16T12:01:38.853Z"
   },
   {
    "duration": 71,
    "start_time": "2022-12-16T12:01:47.338Z"
   },
   {
    "duration": 4,
    "start_time": "2022-12-16T12:02:00.912Z"
   },
   {
    "duration": 60,
    "start_time": "2022-12-16T12:04:30.959Z"
   },
   {
    "duration": 853,
    "start_time": "2022-12-16T12:04:38.034Z"
   },
   {
    "duration": 896,
    "start_time": "2022-12-16T12:04:52.961Z"
   },
   {
    "duration": 3,
    "start_time": "2022-12-16T12:12:00.842Z"
   },
   {
    "duration": 988,
    "start_time": "2022-12-16T12:12:00.860Z"
   },
   {
    "duration": 572,
    "start_time": "2022-12-16T12:12:01.851Z"
   },
   {
    "duration": 899,
    "start_time": "2022-12-16T12:12:02.425Z"
   },
   {
    "duration": 199,
    "start_time": "2022-12-16T12:12:03.326Z"
   },
   {
    "duration": 57,
    "start_time": "2022-12-16T12:12:03.526Z"
   },
   {
    "duration": 66550,
    "start_time": "2022-12-16T12:12:03.585Z"
   },
   {
    "duration": 64374,
    "start_time": "2022-12-16T12:13:32.442Z"
   },
   {
    "duration": 128,
    "start_time": "2022-12-16T12:15:12.413Z"
   },
   {
    "duration": 102,
    "start_time": "2022-12-16T12:15:19.783Z"
   },
   {
    "duration": 19,
    "start_time": "2022-12-16T12:15:43.957Z"
   },
   {
    "duration": 108,
    "start_time": "2022-12-16T12:16:22.136Z"
   },
   {
    "duration": 107,
    "start_time": "2022-12-16T12:16:52.037Z"
   },
   {
    "duration": 2,
    "start_time": "2022-12-16T12:17:44.395Z"
   },
   {
    "duration": 887,
    "start_time": "2022-12-16T12:17:44.441Z"
   },
   {
    "duration": 569,
    "start_time": "2022-12-16T12:17:45.330Z"
   },
   {
    "duration": 846,
    "start_time": "2022-12-16T12:17:45.901Z"
   },
   {
    "duration": 175,
    "start_time": "2022-12-16T12:17:46.749Z"
   },
   {
    "duration": 58,
    "start_time": "2022-12-16T12:17:46.926Z"
   },
   {
    "duration": 105,
    "start_time": "2022-12-16T12:18:16.670Z"
   },
   {
    "duration": 153,
    "start_time": "2022-12-16T12:20:40.504Z"
   },
   {
    "duration": 217698,
    "start_time": "2022-12-16T12:20:56.492Z"
   },
   {
    "duration": 103023,
    "start_time": "2022-12-16T12:24:44.146Z"
   },
   {
    "duration": 132,
    "start_time": "2022-12-16T12:26:45.864Z"
   },
   {
    "duration": 104,
    "start_time": "2022-12-16T12:26:51.161Z"
   },
   {
    "duration": 102,
    "start_time": "2022-12-16T12:26:57.374Z"
   },
   {
    "duration": 105,
    "start_time": "2022-12-16T12:27:38.128Z"
   },
   {
    "duration": 893807,
    "start_time": "2022-12-16T12:28:05.401Z"
   },
   {
    "duration": 54,
    "start_time": "2022-12-16T12:43:06.909Z"
   },
   {
    "duration": 40,
    "start_time": "2022-12-16T12:43:33.037Z"
   },
   {
    "duration": 67,
    "start_time": "2022-12-16T12:43:45.361Z"
   },
   {
    "duration": 117,
    "start_time": "2022-12-16T12:44:00.969Z"
   },
   {
    "duration": 62,
    "start_time": "2022-12-16T12:44:14.537Z"
   },
   {
    "duration": 13,
    "start_time": "2022-12-16T12:44:26.605Z"
   },
   {
    "duration": 14,
    "start_time": "2022-12-16T12:45:25.793Z"
   },
   {
    "duration": 16,
    "start_time": "2022-12-16T12:45:46.456Z"
   },
   {
    "duration": 30,
    "start_time": "2022-12-16T12:46:16.061Z"
   },
   {
    "duration": 81,
    "start_time": "2022-12-16T12:46:38.422Z"
   },
   {
    "duration": 8,
    "start_time": "2022-12-16T12:46:38.505Z"
   },
   {
    "duration": 878,
    "start_time": "2022-12-16T12:47:09.356Z"
   },
   {
    "duration": 550,
    "start_time": "2022-12-16T12:47:15.017Z"
   },
   {
    "duration": 857,
    "start_time": "2022-12-16T12:47:19.815Z"
   },
   {
    "duration": 164,
    "start_time": "2022-12-16T12:47:23.291Z"
   },
   {
    "duration": 30,
    "start_time": "2022-12-16T12:47:28.324Z"
   },
   {
    "duration": 84,
    "start_time": "2022-12-16T12:47:36.336Z"
   },
   {
    "duration": 47,
    "start_time": "2022-12-16T12:51:08.264Z"
   },
   {
    "duration": 63,
    "start_time": "2022-12-16T12:51:21.614Z"
   },
   {
    "duration": 121,
    "start_time": "2022-12-16T12:51:37.551Z"
   },
   {
    "duration": 148,
    "start_time": "2022-12-16T12:53:16.878Z"
   },
   {
    "duration": 87193,
    "start_time": "2022-12-16T12:54:04.932Z"
   },
   {
    "duration": 25,
    "start_time": "2022-12-16T12:56:21.462Z"
   },
   {
    "duration": 38,
    "start_time": "2022-12-16T12:57:19.012Z"
   },
   {
    "duration": 1094,
    "start_time": "2022-12-16T12:57:47.266Z"
   },
   {
    "duration": 5,
    "start_time": "2022-12-16T12:57:51.764Z"
   },
   {
    "duration": 28,
    "start_time": "2022-12-16T12:58:58.243Z"
   },
   {
    "duration": 42,
    "start_time": "2022-12-16T12:59:31.199Z"
   },
   {
    "duration": 50,
    "start_time": "2022-12-16T13:01:02.672Z"
   },
   {
    "duration": 2,
    "start_time": "2022-12-16T13:03:53.089Z"
   },
   {
    "duration": 867,
    "start_time": "2022-12-16T13:03:53.098Z"
   },
   {
    "duration": 529,
    "start_time": "2022-12-16T13:03:53.967Z"
   },
   {
    "duration": 905,
    "start_time": "2022-12-16T13:03:54.498Z"
   },
   {
    "duration": 221,
    "start_time": "2022-12-16T13:03:55.405Z"
   },
   {
    "duration": 50,
    "start_time": "2022-12-16T13:04:05.974Z"
   },
   {
    "duration": 1701046,
    "start_time": "2022-12-16T13:04:23.968Z"
   },
   {
    "duration": 6,
    "start_time": "2022-12-16T13:32:45.016Z"
   },
   {
    "duration": 7,
    "start_time": "2022-12-16T13:32:47.908Z"
   },
   {
    "duration": 1963,
    "start_time": "2022-12-16T13:33:00.985Z"
   },
   {
    "duration": 21,
    "start_time": "2022-12-16T13:33:16.591Z"
   },
   {
    "duration": 27,
    "start_time": "2022-12-16T13:34:19.232Z"
   },
   {
    "duration": 23,
    "start_time": "2022-12-16T13:39:36.799Z"
   },
   {
    "duration": 23,
    "start_time": "2022-12-16T13:40:38.410Z"
   },
   {
    "duration": 736,
    "start_time": "2022-12-16T13:41:06.706Z"
   },
   {
    "duration": 25,
    "start_time": "2022-12-16T13:42:38.602Z"
   },
   {
    "duration": 2,
    "start_time": "2022-12-16T13:42:50.542Z"
   },
   {
    "duration": 91,
    "start_time": "2022-12-16T13:42:55.190Z"
   },
   {
    "duration": 90,
    "start_time": "2022-12-16T13:42:59.054Z"
   },
   {
    "duration": 22,
    "start_time": "2022-12-16T13:43:24.435Z"
   },
   {
    "duration": 24,
    "start_time": "2022-12-16T13:44:13.163Z"
   },
   {
    "duration": 23,
    "start_time": "2022-12-16T13:45:38.142Z"
   },
   {
    "duration": 24,
    "start_time": "2022-12-16T13:46:43.820Z"
   },
   {
    "duration": 14,
    "start_time": "2022-12-16T13:58:47.669Z"
   },
   {
    "duration": 16,
    "start_time": "2022-12-16T13:59:07.737Z"
   },
   {
    "duration": 15,
    "start_time": "2022-12-16T13:59:12.715Z"
   },
   {
    "duration": 14,
    "start_time": "2022-12-16T13:59:20.458Z"
   },
   {
    "duration": 224,
    "start_time": "2022-12-16T14:04:18.800Z"
   },
   {
    "duration": 13,
    "start_time": "2022-12-16T14:05:10.492Z"
   },
   {
    "duration": 6,
    "start_time": "2022-12-16T14:05:23.207Z"
   },
   {
    "duration": 14,
    "start_time": "2022-12-16T14:05:29.069Z"
   },
   {
    "duration": 21,
    "start_time": "2022-12-16T14:05:39.641Z"
   },
   {
    "duration": 14,
    "start_time": "2022-12-16T14:06:09.454Z"
   },
   {
    "duration": 13,
    "start_time": "2022-12-16T14:06:23.782Z"
   },
   {
    "duration": 62,
    "start_time": "2022-12-16T14:07:10.711Z"
   },
   {
    "duration": 68,
    "start_time": "2022-12-16T14:08:15.182Z"
   },
   {
    "duration": 87,
    "start_time": "2022-12-16T14:08:54.371Z"
   },
   {
    "duration": 20,
    "start_time": "2022-12-16T14:09:19.787Z"
   },
   {
    "duration": 111,
    "start_time": "2022-12-16T14:09:55.350Z"
   },
   {
    "duration": 50,
    "start_time": "2022-12-16T14:10:25.884Z"
   },
   {
    "duration": 33,
    "start_time": "2022-12-16T14:10:30.788Z"
   },
   {
    "duration": 133,
    "start_time": "2022-12-16T14:10:47.915Z"
   },
   {
    "duration": 140,
    "start_time": "2022-12-16T14:11:45.834Z"
   },
   {
    "duration": 111,
    "start_time": "2022-12-16T14:11:53.647Z"
   },
   {
    "duration": 127,
    "start_time": "2022-12-16T14:12:19.300Z"
   },
   {
    "duration": 111,
    "start_time": "2022-12-16T14:13:54.878Z"
   },
   {
    "duration": 113903,
    "start_time": "2022-12-16T14:14:46.608Z"
   },
   {
    "duration": 157933,
    "start_time": "2022-12-16T14:16:43.219Z"
   },
   {
    "duration": 32,
    "start_time": "2022-12-16T14:21:36.602Z"
   },
   {
    "duration": 44,
    "start_time": "2022-12-16T14:23:09.378Z"
   },
   {
    "duration": 823,
    "start_time": "2022-12-16T14:23:59.807Z"
   },
   {
    "duration": 533,
    "start_time": "2022-12-16T14:24:06.153Z"
   },
   {
    "duration": 837,
    "start_time": "2022-12-16T14:24:11.305Z"
   },
   {
    "duration": 191,
    "start_time": "2022-12-16T14:24:15.474Z"
   },
   {
    "duration": 43,
    "start_time": "2022-12-16T14:24:20.088Z"
   },
   {
    "duration": 5,
    "start_time": "2022-12-16T14:24:49.988Z"
   },
   {
    "duration": 15,
    "start_time": "2022-12-16T14:25:12.023Z"
   },
   {
    "duration": 156025,
    "start_time": "2022-12-16T14:26:27.611Z"
   },
   {
    "duration": 106984,
    "start_time": "2022-12-16T14:35:25.437Z"
   },
   {
    "duration": 119911,
    "start_time": "2022-12-16T14:39:08.293Z"
   },
   {
    "duration": 24,
    "start_time": "2022-12-16T14:42:43.969Z"
   },
   {
    "duration": 62,
    "start_time": "2022-12-16T14:44:43.758Z"
   },
   {
    "duration": 34,
    "start_time": "2022-12-16T14:44:59.956Z"
   },
   {
    "duration": 36,
    "start_time": "2022-12-16T14:45:24.680Z"
   },
   {
    "duration": 45,
    "start_time": "2022-12-16T14:45:54.482Z"
   },
   {
    "duration": 60,
    "start_time": "2022-12-16T14:46:29.430Z"
   },
   {
    "duration": 54,
    "start_time": "2022-12-16T14:46:53.514Z"
   },
   {
    "duration": 87,
    "start_time": "2022-12-16T14:47:10.331Z"
   },
   {
    "duration": 80,
    "start_time": "2022-12-16T14:47:27.732Z"
   },
   {
    "duration": 76,
    "start_time": "2022-12-16T14:47:37.410Z"
   },
   {
    "duration": 72,
    "start_time": "2022-12-16T14:48:17.666Z"
   },
   {
    "duration": 64,
    "start_time": "2022-12-16T14:48:39.003Z"
   },
   {
    "duration": 75,
    "start_time": "2022-12-16T14:48:54.587Z"
   },
   {
    "duration": 105,
    "start_time": "2022-12-16T14:50:19.064Z"
   },
   {
    "duration": 103,
    "start_time": "2022-12-16T14:51:54.638Z"
   },
   {
    "duration": 104,
    "start_time": "2022-12-16T14:52:20.730Z"
   },
   {
    "duration": 121,
    "start_time": "2022-12-16T14:58:10.353Z"
   },
   {
    "duration": 30,
    "start_time": "2022-12-16T14:58:17.235Z"
   },
   {
    "duration": 18,
    "start_time": "2022-12-16T14:58:25.235Z"
   },
   {
    "duration": 20,
    "start_time": "2022-12-16T15:01:09.868Z"
   },
   {
    "duration": 38,
    "start_time": "2022-12-16T15:02:42.135Z"
   },
   {
    "duration": 856,
    "start_time": "2022-12-16T15:04:08.569Z"
   },
   {
    "duration": 135,
    "start_time": "2022-12-16T15:04:25.850Z"
   },
   {
    "duration": 151,
    "start_time": "2022-12-16T15:04:37.483Z"
   },
   {
    "duration": 142,
    "start_time": "2022-12-16T15:04:46.413Z"
   },
   {
    "duration": 160,
    "start_time": "2022-12-16T15:04:50.218Z"
   },
   {
    "duration": 129,
    "start_time": "2022-12-16T15:04:56.148Z"
   },
   {
    "duration": 236,
    "start_time": "2022-12-16T15:05:35.049Z"
   },
   {
    "duration": 149,
    "start_time": "2022-12-16T15:06:31.317Z"
   },
   {
    "duration": 196,
    "start_time": "2022-12-16T15:06:35.433Z"
   },
   {
    "duration": 173,
    "start_time": "2022-12-16T15:06:45.821Z"
   },
   {
    "duration": 5,
    "start_time": "2022-12-16T15:14:58.800Z"
   },
   {
    "duration": 13,
    "start_time": "2022-12-16T15:15:01.871Z"
   },
   {
    "duration": 60,
    "start_time": "2022-12-16T15:16:22.203Z"
   },
   {
    "duration": 120,
    "start_time": "2022-12-16T15:21:41.047Z"
   },
   {
    "duration": 132,
    "start_time": "2022-12-16T15:22:14.739Z"
   },
   {
    "duration": 16,
    "start_time": "2022-12-16T15:23:43.256Z"
   },
   {
    "duration": 34,
    "start_time": "2022-12-16T15:23:57.337Z"
   },
   {
    "duration": 158,
    "start_time": "2022-12-16T15:24:50.081Z"
   },
   {
    "duration": 8,
    "start_time": "2022-12-16T15:27:19.155Z"
   },
   {
    "duration": 4,
    "start_time": "2022-12-16T15:27:25.837Z"
   },
   {
    "duration": 18,
    "start_time": "2022-12-16T15:27:48.359Z"
   },
   {
    "duration": 4,
    "start_time": "2022-12-16T15:28:07.649Z"
   },
   {
    "duration": 27,
    "start_time": "2022-12-16T15:29:03.369Z"
   },
   {
    "duration": 59,
    "start_time": "2022-12-16T15:30:44.281Z"
   },
   {
    "duration": 1087,
    "start_time": "2022-12-17T12:49:22.055Z"
   },
   {
    "duration": 2868,
    "start_time": "2022-12-17T12:49:27.464Z"
   },
   {
    "duration": 581,
    "start_time": "2022-12-17T12:49:34.800Z"
   },
   {
    "duration": 966,
    "start_time": "2022-12-17T12:49:39.252Z"
   },
   {
    "duration": 154,
    "start_time": "2022-12-17T12:49:43.575Z"
   },
   {
    "duration": 51,
    "start_time": "2022-12-17T12:49:50.093Z"
   },
   {
    "duration": 246696,
    "start_time": "2022-12-17T12:49:53.151Z"
   },
   {
    "duration": 186,
    "start_time": "2022-12-17T12:53:59.849Z"
   },
   {
    "duration": 67,
    "start_time": "2022-12-17T12:54:00.037Z"
   },
   {
    "duration": 421,
    "start_time": "2022-12-17T12:57:36.071Z"
   },
   {
    "duration": 1287,
    "start_time": "2022-12-17T12:58:39.583Z"
   },
   {
    "duration": 1164,
    "start_time": "2022-12-17T12:59:05.259Z"
   },
   {
    "duration": 81,
    "start_time": "2022-12-17T13:02:07.274Z"
   },
   {
    "duration": 74,
    "start_time": "2022-12-17T13:02:53.451Z"
   },
   {
    "duration": 1138,
    "start_time": "2022-12-17T13:03:02.339Z"
   },
   {
    "duration": 1205,
    "start_time": "2022-12-17T13:03:16.176Z"
   },
   {
    "duration": 106,
    "start_time": "2022-12-17T13:07:51.813Z"
   },
   {
    "duration": 1042,
    "start_time": "2022-12-17T13:08:32.720Z"
   },
   {
    "duration": 1226,
    "start_time": "2022-12-17T13:09:35.136Z"
   },
   {
    "duration": 253,
    "start_time": "2022-12-17T13:09:47.976Z"
   },
   {
    "duration": 274,
    "start_time": "2022-12-17T13:10:16.131Z"
   },
   {
    "duration": 117,
    "start_time": "2022-12-17T13:13:06.748Z"
   },
   {
    "duration": 48,
    "start_time": "2022-12-17T13:13:16.057Z"
   },
   {
    "duration": 344,
    "start_time": "2022-12-17T13:14:03.392Z"
   },
   {
    "duration": 1052,
    "start_time": "2022-12-17T13:14:37.533Z"
   },
   {
    "duration": 250,
    "start_time": "2022-12-17T13:15:17.273Z"
   },
   {
    "duration": 251,
    "start_time": "2022-12-17T13:15:55.358Z"
   },
   {
    "duration": 70,
    "start_time": "2022-12-17T13:19:22.027Z"
   },
   {
    "duration": 110,
    "start_time": "2022-12-17T13:22:16.156Z"
   },
   {
    "duration": 10,
    "start_time": "2022-12-17T13:22:31.786Z"
   },
   {
    "duration": 70,
    "start_time": "2022-12-17T13:25:43.742Z"
   },
   {
    "duration": 4,
    "start_time": "2022-12-17T13:27:59.300Z"
   },
   {
    "duration": 108,
    "start_time": "2022-12-17T13:28:39.500Z"
   },
   {
    "duration": 37,
    "start_time": "2022-12-17T13:42:17.039Z"
   },
   {
    "duration": 103,
    "start_time": "2022-12-17T13:42:32.053Z"
   },
   {
    "duration": 1594,
    "start_time": "2022-12-17T15:08:27.064Z"
   },
   {
    "duration": 2899,
    "start_time": "2022-12-17T15:10:37.965Z"
   },
   {
    "duration": 540,
    "start_time": "2022-12-17T15:10:45.845Z"
   },
   {
    "duration": 947,
    "start_time": "2022-12-17T15:10:50.776Z"
   },
   {
    "duration": 152,
    "start_time": "2022-12-17T15:10:54.296Z"
   },
   {
    "duration": 50,
    "start_time": "2022-12-17T15:10:59.161Z"
   },
   {
    "duration": 243271,
    "start_time": "2022-12-17T15:11:01.718Z"
   },
   {
    "duration": 133,
    "start_time": "2022-12-17T15:15:12.555Z"
   },
   {
    "duration": 1134,
    "start_time": "2022-12-17T15:15:17.636Z"
   },
   {
    "duration": 59,
    "start_time": "2022-12-17T15:15:25.491Z"
   },
   {
    "duration": 347,
    "start_time": "2022-12-17T15:15:31.514Z"
   },
   {
    "duration": 78,
    "start_time": "2022-12-17T15:15:36.361Z"
   },
   {
    "duration": 227,
    "start_time": "2022-12-17T15:15:41.329Z"
   },
   {
    "duration": 10,
    "start_time": "2022-12-17T15:15:46.457Z"
   },
   {
    "duration": 60,
    "start_time": "2022-12-17T15:15:48.426Z"
   },
   {
    "duration": 247,
    "start_time": "2022-12-17T15:15:52.814Z"
   },
   {
    "duration": 14,
    "start_time": "2022-12-17T15:16:30.492Z"
   },
   {
    "duration": 3,
    "start_time": "2022-12-17T15:16:56.673Z"
   },
   {
    "duration": 587,
    "start_time": "2022-12-17T15:17:01.767Z"
   },
   {
    "duration": 503,
    "start_time": "2022-12-17T15:17:12.537Z"
   },
   {
    "duration": 86,
    "start_time": "2022-12-17T15:17:22.290Z"
   },
   {
    "duration": 540,
    "start_time": "2022-12-17T15:17:34.890Z"
   },
   {
    "duration": 1379,
    "start_time": "2022-12-17T15:18:58.609Z"
   },
   {
    "duration": 2422,
    "start_time": "2022-12-17T15:19:41.951Z"
   },
   {
    "duration": 2462,
    "start_time": "2022-12-17T15:20:05.497Z"
   },
   {
    "duration": 734,
    "start_time": "2022-12-17T15:20:51.614Z"
   },
   {
    "duration": 10,
    "start_time": "2022-12-17T15:21:11.755Z"
   },
   {
    "duration": 3155,
    "start_time": "2022-12-17T15:21:36.627Z"
   },
   {
    "duration": 3160,
    "start_time": "2022-12-17T15:23:36.006Z"
   },
   {
    "duration": 3209,
    "start_time": "2022-12-17T15:24:01.340Z"
   },
   {
    "duration": 3151,
    "start_time": "2022-12-17T15:29:00.504Z"
   },
   {
    "duration": 3164,
    "start_time": "2022-12-17T15:29:19.581Z"
   },
   {
    "duration": 3218,
    "start_time": "2022-12-17T15:31:17.928Z"
   },
   {
    "duration": 3181,
    "start_time": "2022-12-17T15:32:00.783Z"
   },
   {
    "duration": 3291,
    "start_time": "2022-12-17T15:32:14.342Z"
   },
   {
    "duration": 3418,
    "start_time": "2022-12-17T15:32:42.148Z"
   },
   {
    "duration": 3196,
    "start_time": "2022-12-17T15:32:54.287Z"
   },
   {
    "duration": 3150,
    "start_time": "2022-12-17T15:33:06.829Z"
   },
   {
    "duration": 3147,
    "start_time": "2022-12-17T15:33:19.157Z"
   },
   {
    "duration": 3137,
    "start_time": "2022-12-17T15:35:22.920Z"
   },
   {
    "duration": 9,
    "start_time": "2022-12-17T15:36:29.774Z"
   },
   {
    "duration": 56,
    "start_time": "2022-12-17T15:37:58.264Z"
   },
   {
    "duration": 796,
    "start_time": "2022-12-17T15:39:22.202Z"
   },
   {
    "duration": 425,
    "start_time": "2022-12-17T15:39:39.184Z"
   },
   {
    "duration": 3209,
    "start_time": "2022-12-17T15:40:09.578Z"
   },
   {
    "duration": 3159,
    "start_time": "2022-12-17T15:40:21.754Z"
   },
   {
    "duration": 79,
    "start_time": "2022-12-17T15:44:02.966Z"
   },
   {
    "duration": 77,
    "start_time": "2022-12-17T15:49:26.554Z"
   },
   {
    "duration": 94,
    "start_time": "2022-12-17T15:49:41.737Z"
   },
   {
    "duration": 78,
    "start_time": "2022-12-17T15:49:54.701Z"
   },
   {
    "duration": 3168,
    "start_time": "2022-12-17T15:50:15.377Z"
   },
   {
    "duration": 64,
    "start_time": "2022-12-17T15:50:29.370Z"
   },
   {
    "duration": 38,
    "start_time": "2022-12-17T15:50:41.859Z"
   },
   {
    "duration": 38,
    "start_time": "2022-12-17T15:50:52.915Z"
   },
   {
    "duration": 42,
    "start_time": "2022-12-17T15:50:58.765Z"
   },
   {
    "duration": 3332,
    "start_time": "2022-12-17T15:51:27.268Z"
   },
   {
    "duration": 3471,
    "start_time": "2022-12-17T15:51:48.774Z"
   },
   {
    "duration": 3232,
    "start_time": "2022-12-17T15:51:59.417Z"
   },
   {
    "duration": 3396,
    "start_time": "2022-12-17T15:52:10.201Z"
   },
   {
    "duration": 3149,
    "start_time": "2022-12-17T15:52:36.619Z"
   },
   {
    "duration": 3179,
    "start_time": "2022-12-17T16:05:40.122Z"
   },
   {
    "duration": 4,
    "start_time": "2022-12-17T16:28:52.995Z"
   },
   {
    "duration": 72,
    "start_time": "2022-12-17T16:32:41.316Z"
   },
   {
    "duration": 77,
    "start_time": "2022-12-17T16:33:12.090Z"
   },
   {
    "duration": 73,
    "start_time": "2022-12-17T16:33:37.607Z"
   },
   {
    "duration": 84,
    "start_time": "2022-12-17T16:33:48.473Z"
   },
   {
    "duration": 5,
    "start_time": "2022-12-17T16:36:41.037Z"
   },
   {
    "duration": 905760,
    "start_time": "2022-12-17T16:37:43.118Z"
   },
   {
    "duration": 4,
    "start_time": "2022-12-17T16:58:04.014Z"
   },
   {
    "duration": 4,
    "start_time": "2022-12-17T16:58:11.286Z"
   },
   {
    "duration": 4,
    "start_time": "2022-12-17T16:58:38.336Z"
   },
   {
    "duration": 4,
    "start_time": "2022-12-17T17:00:07.595Z"
   },
   {
    "duration": 14,
    "start_time": "2022-12-17T17:10:56.787Z"
   },
   {
    "duration": 4,
    "start_time": "2022-12-17T17:11:47.108Z"
   },
   {
    "duration": 3107,
    "start_time": "2022-12-17T17:12:02.961Z"
   },
   {
    "duration": 3018,
    "start_time": "2022-12-17T17:14:44.809Z"
   },
   {
    "duration": 3070,
    "start_time": "2022-12-17T17:14:53.323Z"
   },
   {
    "duration": 4,
    "start_time": "2022-12-17T17:16:59.104Z"
   },
   {
    "duration": 99,
    "start_time": "2022-12-17T17:25:50.200Z"
   },
   {
    "duration": 75,
    "start_time": "2022-12-17T17:26:25.379Z"
   },
   {
    "duration": 1005,
    "start_time": "2022-12-17T17:27:01.916Z"
   },
   {
    "duration": 964,
    "start_time": "2022-12-17T17:27:39.373Z"
   },
   {
    "duration": 2125,
    "start_time": "2022-12-17T17:28:16.998Z"
   },
   {
    "duration": 1307,
    "start_time": "2022-12-17T17:28:24.706Z"
   },
   {
    "duration": 2,
    "start_time": "2022-12-17T17:33:11.214Z"
   },
   {
    "duration": 10,
    "start_time": "2022-12-17T17:35:00.193Z"
   },
   {
    "duration": 11,
    "start_time": "2022-12-17T17:35:48.675Z"
   },
   {
    "duration": 6,
    "start_time": "2022-12-17T17:36:18.961Z"
   },
   {
    "duration": 9,
    "start_time": "2022-12-17T17:38:02.487Z"
   },
   {
    "duration": 3,
    "start_time": "2022-12-17T17:38:40.963Z"
   },
   {
    "duration": 1112,
    "start_time": "2022-12-17T17:38:50.716Z"
   },
   {
    "duration": 1449,
    "start_time": "2022-12-17T17:39:01.771Z"
   },
   {
    "duration": 3,
    "start_time": "2022-12-17T17:39:39.259Z"
   },
   {
    "duration": 3074,
    "start_time": "2022-12-17T17:40:59.360Z"
   },
   {
    "duration": 2966,
    "start_time": "2022-12-17T17:41:30.689Z"
   },
   {
    "duration": 866763,
    "start_time": "2022-12-17T17:42:29.228Z"
   },
   {
    "duration": 4,
    "start_time": "2022-12-17T17:56:55.992Z"
   },
   {
    "duration": 1670,
    "start_time": "2022-12-21T08:43:58.373Z"
   },
   {
    "duration": 1531,
    "start_time": "2022-12-21T08:44:07.952Z"
   },
   {
    "duration": 699,
    "start_time": "2022-12-21T08:44:16.734Z"
   },
   {
    "duration": 1083,
    "start_time": "2022-12-21T08:44:23.225Z"
   },
   {
    "duration": 234,
    "start_time": "2022-12-21T08:44:33.645Z"
   },
   {
    "duration": 48,
    "start_time": "2022-12-21T08:44:40.022Z"
   },
   {
    "duration": 26,
    "start_time": "2022-12-21T08:44:44.885Z"
   },
   {
    "duration": 274573,
    "start_time": "2022-12-21T08:44:51.868Z"
   },
   {
    "duration": 160,
    "start_time": "2022-12-21T08:49:26.444Z"
   },
   {
    "duration": 1298,
    "start_time": "2022-12-21T08:49:42.468Z"
   },
   {
    "duration": 57,
    "start_time": "2022-12-21T08:49:51.071Z"
   },
   {
    "duration": 386,
    "start_time": "2022-12-21T08:49:58.512Z"
   },
   {
    "duration": 89,
    "start_time": "2022-12-21T08:50:04.335Z"
   },
   {
    "duration": 366,
    "start_time": "2022-12-21T08:50:10.523Z"
   },
   {
    "duration": 12,
    "start_time": "2022-12-21T08:50:36.888Z"
   },
   {
    "duration": 72,
    "start_time": "2022-12-21T08:51:23.702Z"
   },
   {
    "duration": 1079,
    "start_time": "2022-12-21T08:51:44.322Z"
   },
   {
    "duration": 7,
    "start_time": "2022-12-21T08:51:54.839Z"
   },
   {
    "duration": 506,
    "start_time": "2022-12-21T08:51:59.075Z"
   },
   {
    "duration": 3711,
    "start_time": "2022-12-21T08:52:17.302Z"
   },
   {
    "duration": 1098319,
    "start_time": "2022-12-21T08:52:25.672Z"
   },
   {
    "duration": 1205,
    "start_time": "2022-12-21T09:14:34.176Z"
   },
   {
    "duration": 1284,
    "start_time": "2022-12-21T09:15:31.594Z"
   },
   {
    "duration": 11424,
    "start_time": "2022-12-21T09:16:11.847Z"
   },
   {
    "duration": 8602,
    "start_time": "2022-12-21T09:18:30.687Z"
   },
   {
    "duration": 11482,
    "start_time": "2022-12-21T09:19:08.294Z"
   },
   {
    "duration": 3698720,
    "start_time": "2022-12-21T09:19:31.686Z"
   },
   {
    "duration": 11,
    "start_time": "2022-12-21T10:21:10.409Z"
   },
   {
    "duration": 0,
    "start_time": "2022-12-21T10:21:10.422Z"
   },
   {
    "duration": 0,
    "start_time": "2022-12-21T10:21:10.426Z"
   },
   {
    "duration": 30,
    "start_time": "2022-12-21T10:21:22.312Z"
   },
   {
    "duration": 839802,
    "start_time": "2022-12-21T10:21:43.029Z"
   },
   {
    "duration": 4,
    "start_time": "2022-12-21T10:35:42.833Z"
   },
   {
    "duration": 2318,
    "start_time": "2022-12-21T10:35:42.839Z"
   },
   {
    "duration": 397813,
    "start_time": "2022-12-21T10:42:56.591Z"
   },
   {
    "duration": 77871,
    "start_time": "2022-12-21T11:02:35.930Z"
   },
   {
    "duration": 108516,
    "start_time": "2022-12-21T11:06:34.760Z"
   },
   {
    "duration": 318,
    "start_time": "2022-12-21T11:14:45.799Z"
   },
   {
    "duration": 318,
    "start_time": "2022-12-21T11:17:06.151Z"
   },
   {
    "duration": 14,
    "start_time": "2022-12-21T11:37:35.033Z"
   },
   {
    "duration": 1403,
    "start_time": "2022-12-21T11:38:00.934Z"
   },
   {
    "duration": 1482,
    "start_time": "2022-12-21T11:45:56.699Z"
   },
   {
    "duration": 363,
    "start_time": "2022-12-21T11:52:58.714Z"
   },
   {
    "duration": 391,
    "start_time": "2022-12-21T11:53:03.543Z"
   },
   {
    "duration": 88635,
    "start_time": "2022-12-21T12:33:33.846Z"
   },
   {
    "duration": 294,
    "start_time": "2022-12-21T12:54:23.392Z"
   },
   {
    "duration": 298,
    "start_time": "2022-12-21T12:54:33.885Z"
   },
   {
    "duration": 1704,
    "start_time": "2022-12-22T12:45:40.422Z"
   },
   {
    "duration": 1057,
    "start_time": "2022-12-22T12:45:42.128Z"
   },
   {
    "duration": 732,
    "start_time": "2022-12-22T12:45:44.129Z"
   },
   {
    "duration": 1054,
    "start_time": "2022-12-22T12:45:44.864Z"
   },
   {
    "duration": 210,
    "start_time": "2022-12-22T12:45:45.920Z"
   },
   {
    "duration": 50,
    "start_time": "2022-12-22T12:45:47.462Z"
   },
   {
    "duration": 261690,
    "start_time": "2022-12-22T12:45:47.686Z"
   },
   {
    "duration": 163,
    "start_time": "2022-12-22T12:50:09.377Z"
   },
   {
    "duration": 1493,
    "start_time": "2022-12-22T13:41:11.720Z"
   },
   {
    "duration": 84,
    "start_time": "2022-12-22T13:41:14.633Z"
   },
   {
    "duration": 347,
    "start_time": "2022-12-22T13:41:15.204Z"
   },
   {
    "duration": 96,
    "start_time": "2022-12-22T13:41:17.284Z"
   },
   {
    "duration": 297,
    "start_time": "2022-12-22T13:41:18.606Z"
   },
   {
    "duration": 60,
    "start_time": "2022-12-22T13:41:20.040Z"
   },
   {
    "duration": 1549,
    "start_time": "2022-12-23T09:07:29.968Z"
   },
   {
    "duration": 2907,
    "start_time": "2022-12-23T09:07:37.692Z"
   },
   {
    "duration": 870,
    "start_time": "2022-12-23T09:07:42.824Z"
   },
   {
    "duration": 177,
    "start_time": "2022-12-23T09:16:08.071Z"
   },
   {
    "duration": 229,
    "start_time": "2022-12-23T09:16:31.981Z"
   },
   {
    "duration": 22,
    "start_time": "2022-12-23T09:16:59.633Z"
   },
   {
    "duration": 812857,
    "start_time": "2022-12-23T09:17:03.834Z"
   },
   {
    "duration": 181,
    "start_time": "2022-12-23T09:30:36.693Z"
   },
   {
    "duration": 1399,
    "start_time": "2022-12-23T09:30:36.875Z"
   },
   {
    "duration": 75,
    "start_time": "2022-12-23T09:30:38.276Z"
   },
   {
    "duration": 304,
    "start_time": "2022-12-23T09:30:38.352Z"
   },
   {
    "duration": 103,
    "start_time": "2022-12-23T09:30:38.657Z"
   },
   {
    "duration": 262,
    "start_time": "2022-12-23T09:30:38.761Z"
   },
   {
    "duration": 139,
    "start_time": "2022-12-23T09:36:34.414Z"
   },
   {
    "duration": 41,
    "start_time": "2022-12-23T09:40:28.979Z"
   },
   {
    "duration": 63,
    "start_time": "2022-12-23T09:40:42.241Z"
   },
   {
    "duration": 48,
    "start_time": "2022-12-23T09:41:03.599Z"
   },
   {
    "duration": 65,
    "start_time": "2022-12-23T09:41:38.057Z"
   },
   {
    "duration": 52,
    "start_time": "2022-12-23T09:41:42.183Z"
   },
   {
    "duration": 171,
    "start_time": "2022-12-23T09:44:26.283Z"
   },
   {
    "duration": 118,
    "start_time": "2022-12-23T09:46:09.617Z"
   },
   {
    "duration": 78,
    "start_time": "2022-12-23T09:46:43.610Z"
   },
   {
    "duration": 75,
    "start_time": "2022-12-23T09:47:58.925Z"
   },
   {
    "duration": 75,
    "start_time": "2022-12-23T09:48:08.537Z"
   },
   {
    "duration": 114,
    "start_time": "2022-12-23T09:48:44.111Z"
   },
   {
    "duration": 333,
    "start_time": "2022-12-23T09:49:32.941Z"
   },
   {
    "duration": 76,
    "start_time": "2022-12-23T09:52:08.144Z"
   },
   {
    "duration": 83,
    "start_time": "2022-12-23T09:52:24.312Z"
   },
   {
    "duration": 69,
    "start_time": "2022-12-23T09:56:44.440Z"
   },
   {
    "duration": 49,
    "start_time": "2022-12-23T09:57:59.154Z"
   },
   {
    "duration": 154,
    "start_time": "2022-12-23T09:59:16.406Z"
   },
   {
    "duration": 92,
    "start_time": "2022-12-23T10:00:26.967Z"
   },
   {
    "duration": 84,
    "start_time": "2022-12-23T10:00:59.240Z"
   },
   {
    "duration": 91,
    "start_time": "2022-12-23T10:02:53.615Z"
   },
   {
    "duration": 88,
    "start_time": "2022-12-23T10:06:40.372Z"
   },
   {
    "duration": 99,
    "start_time": "2022-12-23T10:06:46.824Z"
   },
   {
    "duration": 73,
    "start_time": "2022-12-23T10:07:52.940Z"
   },
   {
    "duration": 138,
    "start_time": "2022-12-23T10:08:38.094Z"
   },
   {
    "duration": 192,
    "start_time": "2022-12-23T10:09:32.305Z"
   },
   {
    "duration": 370,
    "start_time": "2022-12-23T10:11:42.815Z"
   },
   {
    "duration": 885,
    "start_time": "2022-12-23T10:13:12.216Z"
   },
   {
    "duration": 516,
    "start_time": "2022-12-23T10:13:19.450Z"
   },
   {
    "duration": 794,
    "start_time": "2022-12-23T10:13:24.248Z"
   },
   {
    "duration": 175,
    "start_time": "2022-12-23T10:13:30.377Z"
   },
   {
    "duration": 194,
    "start_time": "2022-12-23T10:13:54.957Z"
   },
   {
    "duration": 1474,
    "start_time": "2022-12-23T10:13:56.759Z"
   },
   {
    "duration": 88,
    "start_time": "2022-12-23T10:14:03.957Z"
   },
   {
    "duration": 350,
    "start_time": "2022-12-23T10:14:07.796Z"
   },
   {
    "duration": 104,
    "start_time": "2022-12-23T10:14:11.657Z"
   },
   {
    "duration": 260,
    "start_time": "2022-12-23T10:14:14.757Z"
   },
   {
    "duration": 77,
    "start_time": "2022-12-23T10:14:43.225Z"
   },
   {
    "duration": 57,
    "start_time": "2022-12-23T10:15:25.844Z"
   },
   {
    "duration": 56,
    "start_time": "2022-12-23T10:15:34.598Z"
   },
   {
    "duration": 15351,
    "start_time": "2022-12-23T10:16:40.418Z"
   },
   {
    "duration": 76,
    "start_time": "2022-12-23T10:17:40.597Z"
   },
   {
    "duration": 7,
    "start_time": "2022-12-23T10:18:05.141Z"
   },
   {
    "duration": 27,
    "start_time": "2022-12-23T10:18:40.376Z"
   },
   {
    "duration": 68,
    "start_time": "2022-12-23T10:19:42.009Z"
   },
   {
    "duration": 3,
    "start_time": "2022-12-23T10:20:48.494Z"
   },
   {
    "duration": 774,
    "start_time": "2022-12-23T10:20:48.509Z"
   },
   {
    "duration": 423,
    "start_time": "2022-12-23T10:20:49.285Z"
   },
   {
    "duration": 727,
    "start_time": "2022-12-23T10:20:49.709Z"
   },
   {
    "duration": 191,
    "start_time": "2022-12-23T10:20:50.437Z"
   },
   {
    "duration": 45,
    "start_time": "2022-12-23T10:20:50.630Z"
   },
   {
    "duration": 3,
    "start_time": "2022-12-23T10:21:55.135Z"
   },
   {
    "duration": 822,
    "start_time": "2022-12-23T10:21:55.139Z"
   },
   {
    "duration": 455,
    "start_time": "2022-12-23T10:21:55.962Z"
   },
   {
    "duration": 746,
    "start_time": "2022-12-23T10:21:56.419Z"
   },
   {
    "duration": 171,
    "start_time": "2022-12-23T10:21:57.167Z"
   },
   {
    "duration": 44,
    "start_time": "2022-12-23T10:21:57.340Z"
   },
   {
    "duration": 83671,
    "start_time": "2022-12-23T10:21:57.385Z"
   },
   {
    "duration": 140,
    "start_time": "2022-12-23T10:23:21.057Z"
   },
   {
    "duration": 1397,
    "start_time": "2022-12-23T10:23:21.198Z"
   },
   {
    "duration": 70,
    "start_time": "2022-12-23T10:23:22.596Z"
   },
   {
    "duration": 291,
    "start_time": "2022-12-23T10:23:22.667Z"
   },
   {
    "duration": 93,
    "start_time": "2022-12-23T10:23:22.959Z"
   },
   {
    "duration": 257,
    "start_time": "2022-12-23T10:23:23.053Z"
   },
   {
    "duration": 52,
    "start_time": "2022-12-23T10:23:23.311Z"
   },
   {
    "duration": 1796,
    "start_time": "2022-12-23T10:23:23.365Z"
   },
   {
    "duration": 0,
    "start_time": "2022-12-23T10:23:25.165Z"
   },
   {
    "duration": 0,
    "start_time": "2022-12-23T10:23:25.166Z"
   },
   {
    "duration": 3,
    "start_time": "2022-12-23T10:23:28.986Z"
   },
   {
    "duration": 752,
    "start_time": "2022-12-23T10:23:32.537Z"
   },
   {
    "duration": 428,
    "start_time": "2022-12-23T10:23:40.309Z"
   },
   {
    "duration": 730,
    "start_time": "2022-12-23T10:23:44.429Z"
   },
   {
    "duration": 167,
    "start_time": "2022-12-23T10:23:48.830Z"
   },
   {
    "duration": 179,
    "start_time": "2022-12-23T10:23:59.217Z"
   },
   {
    "duration": 1295,
    "start_time": "2022-12-23T10:24:03.398Z"
   },
   {
    "duration": 62,
    "start_time": "2022-12-23T10:24:07.469Z"
   },
   {
    "duration": 311,
    "start_time": "2022-12-23T10:24:11.417Z"
   },
   {
    "duration": 99,
    "start_time": "2022-12-23T10:24:17.297Z"
   },
   {
    "duration": 260,
    "start_time": "2022-12-23T10:24:21.837Z"
   },
   {
    "duration": 3760,
    "start_time": "2022-12-23T10:24:42.018Z"
   },
   {
    "duration": 11,
    "start_time": "2022-12-23T10:25:17.989Z"
   },
   {
    "duration": 67,
    "start_time": "2022-12-23T10:25:52.689Z"
   },
   {
    "duration": 40,
    "start_time": "2022-12-23T10:26:26.594Z"
   },
   {
    "duration": 31,
    "start_time": "2022-12-23T10:26:39.529Z"
   },
   {
    "duration": 13,
    "start_time": "2022-12-23T10:27:48.350Z"
   },
   {
    "duration": 70,
    "start_time": "2022-12-23T10:27:52.070Z"
   },
   {
    "duration": 75,
    "start_time": "2022-12-23T10:28:16.199Z"
   },
   {
    "duration": 4,
    "start_time": "2022-12-23T10:29:06.918Z"
   },
   {
    "duration": 24,
    "start_time": "2022-12-23T10:33:03.020Z"
   },
   {
    "duration": 3,
    "start_time": "2022-12-23T10:33:43.658Z"
   },
   {
    "duration": 832,
    "start_time": "2022-12-23T10:33:43.698Z"
   },
   {
    "duration": 447,
    "start_time": "2022-12-23T10:33:44.531Z"
   },
   {
    "duration": 831,
    "start_time": "2022-12-23T10:33:44.980Z"
   },
   {
    "duration": 197,
    "start_time": "2022-12-23T10:33:45.813Z"
   },
   {
    "duration": 33,
    "start_time": "2022-12-23T10:33:46.012Z"
   },
   {
    "duration": 12476,
    "start_time": "2022-12-23T10:33:46.047Z"
   },
   {
    "duration": 171,
    "start_time": "2022-12-23T10:33:58.525Z"
   },
   {
    "duration": 1410,
    "start_time": "2022-12-23T10:33:58.698Z"
   },
   {
    "duration": 73,
    "start_time": "2022-12-23T10:34:00.109Z"
   },
   {
    "duration": 290,
    "start_time": "2022-12-23T10:34:00.185Z"
   },
   {
    "duration": 112,
    "start_time": "2022-12-23T10:34:00.477Z"
   },
   {
    "duration": 262,
    "start_time": "2022-12-23T10:34:00.591Z"
   },
   {
    "duration": 48,
    "start_time": "2022-12-23T10:34:00.855Z"
   },
   {
    "duration": 3732,
    "start_time": "2022-12-23T10:34:00.905Z"
   },
   {
    "duration": 27,
    "start_time": "2022-12-23T10:34:04.638Z"
   },
   {
    "duration": 11,
    "start_time": "2022-12-23T10:34:04.667Z"
   },
   {
    "duration": 82,
    "start_time": "2022-12-23T10:34:04.679Z"
   },
   {
    "duration": 86,
    "start_time": "2022-12-23T10:34:04.763Z"
   },
   {
    "duration": 38,
    "start_time": "2022-12-23T10:34:04.851Z"
   },
   {
    "duration": 0,
    "start_time": "2022-12-23T10:34:04.891Z"
   },
   {
    "duration": 4,
    "start_time": "2022-12-23T10:34:07.058Z"
   },
   {
    "duration": 798,
    "start_time": "2022-12-23T10:34:09.470Z"
   },
   {
    "duration": 448,
    "start_time": "2022-12-23T10:34:18.431Z"
   },
   {
    "duration": 761,
    "start_time": "2022-12-23T10:34:25.210Z"
   },
   {
    "duration": 180,
    "start_time": "2022-12-23T10:34:32.026Z"
   },
   {
    "duration": 50,
    "start_time": "2022-12-23T10:34:38.249Z"
   },
   {
    "duration": 770299,
    "start_time": "2022-12-23T10:34:47.178Z"
   },
   {
    "duration": 179,
    "start_time": "2022-12-23T10:47:37.480Z"
   },
   {
    "duration": 1231,
    "start_time": "2022-12-23T10:47:37.661Z"
   },
   {
    "duration": 77,
    "start_time": "2022-12-23T10:47:38.894Z"
   },
   {
    "duration": 284,
    "start_time": "2022-12-23T10:47:38.972Z"
   },
   {
    "duration": 105,
    "start_time": "2022-12-23T10:47:39.257Z"
   },
   {
    "duration": 265,
    "start_time": "2022-12-23T10:47:39.363Z"
   },
   {
    "duration": 3763,
    "start_time": "2022-12-23T10:47:39.630Z"
   },
   {
    "duration": 22,
    "start_time": "2022-12-23T10:47:43.395Z"
   },
   {
    "duration": 24,
    "start_time": "2022-12-23T10:47:43.419Z"
   },
   {
    "duration": 74,
    "start_time": "2022-12-23T10:47:43.445Z"
   },
   {
    "duration": 260,
    "start_time": "2022-12-23T10:47:43.521Z"
   },
   {
    "duration": 0,
    "start_time": "2022-12-23T10:47:43.783Z"
   },
   {
    "duration": 15,
    "start_time": "2022-12-23T10:49:12.524Z"
   },
   {
    "duration": 13,
    "start_time": "2022-12-23T10:49:36.597Z"
   },
   {
    "duration": 10,
    "start_time": "2022-12-23T10:50:12.566Z"
   },
   {
    "duration": 9,
    "start_time": "2022-12-23T10:50:50.686Z"
   },
   {
    "duration": 3,
    "start_time": "2022-12-23T10:50:58.706Z"
   },
   {
    "duration": 9,
    "start_time": "2022-12-23T10:51:18.706Z"
   },
   {
    "duration": 3,
    "start_time": "2022-12-23T10:51:28.906Z"
   },
   {
    "duration": 1962,
    "start_time": "2022-12-23T10:51:38.276Z"
   },
   {
    "duration": 3,
    "start_time": "2022-12-23T10:54:25.475Z"
   },
   {
    "duration": 19,
    "start_time": "2022-12-23T10:54:37.847Z"
   },
   {
    "duration": 10,
    "start_time": "2022-12-23T10:55:30.967Z"
   },
   {
    "duration": 10,
    "start_time": "2022-12-23T10:57:09.116Z"
   },
   {
    "duration": 5,
    "start_time": "2022-12-23T11:00:29.327Z"
   },
   {
    "duration": 71,
    "start_time": "2022-12-23T11:00:46.798Z"
   },
   {
    "duration": 17,
    "start_time": "2022-12-23T11:00:48.593Z"
   },
   {
    "duration": 456,
    "start_time": "2022-12-23T11:00:54.735Z"
   },
   {
    "duration": 4532,
    "start_time": "2022-12-23T11:01:11.842Z"
   },
   {
    "duration": 130,
    "start_time": "2022-12-23T11:03:54.828Z"
   },
   {
    "duration": 6,
    "start_time": "2022-12-23T11:04:41.907Z"
   },
   {
    "duration": 66,
    "start_time": "2022-12-23T11:05:28.435Z"
   },
   {
    "duration": 12,
    "start_time": "2022-12-23T11:08:43.187Z"
   },
   {
    "duration": 788892,
    "start_time": "2022-12-23T11:09:19.314Z"
   },
   {
    "duration": 4,
    "start_time": "2022-12-23T11:22:51.399Z"
   },
   {
    "duration": 10,
    "start_time": "2022-12-23T11:23:35.607Z"
   },
   {
    "duration": 8,
    "start_time": "2022-12-23T11:23:51.456Z"
   },
   {
    "duration": 1485,
    "start_time": "2022-12-23T11:25:04.687Z"
   },
   {
    "duration": 4,
    "start_time": "2022-12-23T11:25:46.736Z"
   },
   {
    "duration": 4459,
    "start_time": "2022-12-23T11:25:48.887Z"
   },
   {
    "duration": 1536,
    "start_time": "2022-12-23T11:26:09.687Z"
   },
   {
    "duration": 1497,
    "start_time": "2022-12-23T11:26:47.447Z"
   },
   {
    "duration": 79,
    "start_time": "2022-12-23T11:28:37.822Z"
   },
   {
    "duration": 441083,
    "start_time": "2022-12-23T11:29:09.728Z"
   },
   {
    "duration": 1571,
    "start_time": "2022-12-23T15:41:45.238Z"
   },
   {
    "duration": 1220,
    "start_time": "2022-12-23T15:41:51.842Z"
   },
   {
    "duration": 571,
    "start_time": "2022-12-23T15:42:01.554Z"
   },
   {
    "duration": 947,
    "start_time": "2022-12-23T15:42:06.333Z"
   },
   {
    "duration": 237,
    "start_time": "2022-12-23T15:42:10.437Z"
   },
   {
    "duration": 921415,
    "start_time": "2022-12-23T15:42:23.436Z"
   },
   {
    "duration": 183,
    "start_time": "2022-12-23T15:57:44.853Z"
   },
   {
    "duration": 1321,
    "start_time": "2022-12-23T15:57:45.038Z"
   },
   {
    "duration": 75,
    "start_time": "2022-12-23T15:57:46.362Z"
   },
   {
    "duration": 365,
    "start_time": "2022-12-23T15:57:46.439Z"
   },
   {
    "duration": 98,
    "start_time": "2022-12-23T15:57:46.806Z"
   },
   {
    "duration": 279,
    "start_time": "2022-12-23T15:57:46.915Z"
   },
   {
    "duration": 3639,
    "start_time": "2022-12-23T15:57:47.196Z"
   },
   {
    "duration": 26,
    "start_time": "2022-12-23T15:57:50.837Z"
   },
   {
    "duration": 10,
    "start_time": "2022-12-23T15:57:50.865Z"
   },
   {
    "duration": 86,
    "start_time": "2022-12-23T15:57:50.876Z"
   },
   {
    "duration": 500,
    "start_time": "2022-12-23T15:57:50.964Z"
   },
   {
    "duration": 2,
    "start_time": "2022-12-23T15:57:51.466Z"
   },
   {
    "duration": 162,
    "start_time": "2022-12-23T15:57:51.470Z"
   },
   {
    "duration": 1615,
    "start_time": "2022-12-23T15:59:57.038Z"
   },
   {
    "duration": 4,
    "start_time": "2022-12-23T16:00:51.126Z"
   },
   {
    "duration": 46,
    "start_time": "2022-12-23T16:00:57.954Z"
   },
   {
    "duration": 19,
    "start_time": "2022-12-23T16:01:02.021Z"
   },
   {
    "duration": 13,
    "start_time": "2022-12-23T16:02:02.954Z"
   },
   {
    "duration": 11,
    "start_time": "2022-12-23T16:02:32.082Z"
   },
   {
    "duration": 3,
    "start_time": "2022-12-23T16:03:18.622Z"
   },
   {
    "duration": 10,
    "start_time": "2022-12-23T16:03:27.147Z"
   },
   {
    "duration": 10,
    "start_time": "2022-12-23T16:06:40.674Z"
   },
   {
    "duration": 11,
    "start_time": "2022-12-23T16:07:55.844Z"
   },
   {
    "duration": 18,
    "start_time": "2022-12-23T16:08:06.871Z"
   },
   {
    "duration": 18,
    "start_time": "2022-12-23T16:08:42.225Z"
   },
   {
    "duration": 19,
    "start_time": "2022-12-23T16:08:59.971Z"
   },
   {
    "duration": 11,
    "start_time": "2022-12-23T16:09:15.624Z"
   },
   {
    "duration": 13,
    "start_time": "2022-12-23T16:09:18.152Z"
   },
   {
    "duration": 458179,
    "start_time": "2022-12-23T16:12:42.361Z"
   },
   {
    "duration": 49,
    "start_time": "2022-12-23T16:21:13.149Z"
   },
   {
    "duration": 15,
    "start_time": "2022-12-23T16:22:39.733Z"
   },
   {
    "duration": 1147,
    "start_time": "2022-12-23T16:23:32.991Z"
   },
   {
    "duration": 16,
    "start_time": "2022-12-23T16:23:45.027Z"
   },
   {
    "duration": 287318,
    "start_time": "2022-12-23T16:35:06.599Z"
   },
   {
    "duration": 16,
    "start_time": "2022-12-23T16:43:28.861Z"
   },
   {
    "duration": 4820,
    "start_time": "2022-12-23T16:51:21.740Z"
   },
   {
    "duration": 20,
    "start_time": "2022-12-23T16:51:33.441Z"
   },
   {
    "duration": 9,
    "start_time": "2022-12-23T16:51:59.087Z"
   },
   {
    "duration": 12,
    "start_time": "2022-12-23T16:52:04.774Z"
   },
   {
    "duration": 29,
    "start_time": "2022-12-23T16:57:19.045Z"
   },
   {
    "duration": 4741,
    "start_time": "2022-12-23T16:57:27.248Z"
   },
   {
    "duration": 19,
    "start_time": "2022-12-23T16:57:43.164Z"
   },
   {
    "duration": 11,
    "start_time": "2022-12-23T16:58:19.316Z"
   },
   {
    "duration": 19,
    "start_time": "2022-12-23T16:58:23.333Z"
   },
   {
    "duration": 1611,
    "start_time": "2022-12-24T11:28:27.158Z"
   },
   {
    "duration": 1384,
    "start_time": "2022-12-24T11:28:34.600Z"
   },
   {
    "duration": 705,
    "start_time": "2022-12-24T11:28:36.780Z"
   },
   {
    "duration": 1015,
    "start_time": "2022-12-24T11:28:44.148Z"
   },
   {
    "duration": 251,
    "start_time": "2022-12-24T11:28:49.190Z"
   },
   {
    "duration": 55,
    "start_time": "2022-12-24T11:28:55.819Z"
   },
   {
    "duration": 910551,
    "start_time": "2022-12-24T11:28:58.559Z"
   },
   {
    "duration": 193,
    "start_time": "2022-12-24T11:44:09.112Z"
   },
   {
    "duration": 1384,
    "start_time": "2022-12-24T11:44:09.311Z"
   },
   {
    "duration": 83,
    "start_time": "2022-12-24T11:44:10.697Z"
   },
   {
    "duration": 327,
    "start_time": "2022-12-24T11:44:10.781Z"
   },
   {
    "duration": 105,
    "start_time": "2022-12-24T11:44:11.109Z"
   },
   {
    "duration": 273,
    "start_time": "2022-12-24T11:44:11.216Z"
   },
   {
    "duration": 3863,
    "start_time": "2022-12-24T11:44:11.491Z"
   },
   {
    "duration": 27,
    "start_time": "2022-12-24T11:44:15.356Z"
   },
   {
    "duration": 11,
    "start_time": "2022-12-24T11:44:15.385Z"
   },
   {
    "duration": 77,
    "start_time": "2022-12-24T11:44:15.412Z"
   },
   {
    "duration": 636,
    "start_time": "2022-12-24T11:44:15.491Z"
   },
   {
    "duration": 576,
    "start_time": "2022-12-24T11:49:05.008Z"
   },
   {
    "duration": 201,
    "start_time": "2022-12-24T11:50:00.093Z"
   },
   {
    "duration": 161,
    "start_time": "2022-12-24T11:51:22.460Z"
   },
   {
    "duration": 820,
    "start_time": "2022-12-24T11:52:27.874Z"
   },
   {
    "duration": 23,
    "start_time": "2022-12-24T11:53:33.814Z"
   },
   {
    "duration": 23,
    "start_time": "2022-12-24T11:53:41.953Z"
   },
   {
    "duration": 64,
    "start_time": "2022-12-24T11:54:05.395Z"
   },
   {
    "duration": 3,
    "start_time": "2022-12-24T11:54:19.113Z"
   },
   {
    "duration": 10595,
    "start_time": "2022-12-24T11:54:32.040Z"
   },
   {
    "duration": 28,
    "start_time": "2022-12-24T11:54:42.637Z"
   },
   {
    "duration": 17,
    "start_time": "2022-12-24T11:54:52.345Z"
   },
   {
    "duration": 14,
    "start_time": "2022-12-24T11:54:57.735Z"
   },
   {
    "duration": 11009,
    "start_time": "2022-12-24T11:55:40.354Z"
   },
   {
    "duration": 4,
    "start_time": "2022-12-24T11:56:07.895Z"
   },
   {
    "duration": 4,
    "start_time": "2022-12-24T11:56:25.645Z"
   },
   {
    "duration": 28,
    "start_time": "2022-12-24T11:56:36.513Z"
   },
   {
    "duration": 68,
    "start_time": "2022-12-24T11:58:13.128Z"
   },
   {
    "duration": 10578,
    "start_time": "2022-12-24T11:58:22.009Z"
   },
   {
    "duration": 30,
    "start_time": "2022-12-24T11:58:32.588Z"
   },
   {
    "duration": 59,
    "start_time": "2022-12-24T11:59:23.188Z"
   },
   {
    "duration": 10762,
    "start_time": "2022-12-24T11:59:38.855Z"
   },
   {
    "duration": 21,
    "start_time": "2022-12-24T11:59:49.619Z"
   },
   {
    "duration": 25,
    "start_time": "2022-12-24T11:59:49.642Z"
   },
   {
    "duration": 10,
    "start_time": "2022-12-24T11:59:58.013Z"
   },
   {
    "duration": 15,
    "start_time": "2022-12-24T12:00:10.370Z"
   },
   {
    "duration": 14,
    "start_time": "2022-12-24T12:00:25.900Z"
   },
   {
    "duration": 869034,
    "start_time": "2022-12-24T12:00:57.141Z"
   },
   {
    "duration": 20,
    "start_time": "2022-12-24T12:15:26.177Z"
   },
   {
    "duration": 0,
    "start_time": "2022-12-24T12:15:26.199Z"
   },
   {
    "duration": 0,
    "start_time": "2022-12-24T12:15:26.212Z"
   },
   {
    "duration": 0,
    "start_time": "2022-12-24T12:15:26.213Z"
   },
   {
    "duration": 21,
    "start_time": "2022-12-24T12:16:10.532Z"
   },
   {
    "duration": 1145,
    "start_time": "2022-12-24T12:17:05.786Z"
   },
   {
    "duration": 15,
    "start_time": "2022-12-24T12:17:14.595Z"
   },
   {
    "duration": 0,
    "start_time": "2022-12-24T12:49:18.418Z"
   },
   {
    "duration": 1,
    "start_time": "2022-12-24T12:49:18.419Z"
   },
   {
    "duration": 15,
    "start_time": "2022-12-24T12:49:29.123Z"
   },
   {
    "duration": 45,
    "start_time": "2022-12-24T12:49:48.622Z"
   },
   {
    "duration": 5,
    "start_time": "2022-12-24T12:50:14.623Z"
   },
   {
    "duration": 18,
    "start_time": "2022-12-24T12:50:27.521Z"
   },
   {
    "duration": 15,
    "start_time": "2022-12-24T12:51:28.487Z"
   },
   {
    "duration": 3010364,
    "start_time": "2022-12-24T12:52:04.021Z"
   },
   {
    "duration": 16,
    "start_time": "2022-12-24T13:42:44.156Z"
   },
   {
    "duration": 19,
    "start_time": "2022-12-24T13:43:05.519Z"
   },
   {
    "duration": 4177728,
    "start_time": "2022-12-24T13:43:20.605Z"
   },
   {
    "duration": 12,
    "start_time": "2022-12-24T14:52:58.341Z"
   },
   {
    "duration": 0,
    "start_time": "2022-12-24T14:52:58.354Z"
   },
   {
    "duration": 456354,
    "start_time": "2022-12-24T14:53:28.972Z"
   },
   {
    "duration": 436864,
    "start_time": "2022-12-24T15:01:46.064Z"
   },
   {
    "duration": 88,
    "start_time": "2022-12-24T15:09:02.931Z"
   },
   {
    "duration": 650,
    "start_time": "2022-12-24T15:10:11.374Z"
   },
   {
    "duration": 648,
    "start_time": "2022-12-24T15:10:40.319Z"
   },
   {
    "duration": 15,
    "start_time": "2022-12-24T15:17:55.865Z"
   },
   {
    "duration": 330,
    "start_time": "2022-12-24T15:23:30.207Z"
   },
   {
    "duration": 422,
    "start_time": "2022-12-24T15:24:18.175Z"
   },
   {
    "duration": 386,
    "start_time": "2022-12-24T15:24:36.324Z"
   },
   {
    "duration": 5,
    "start_time": "2022-12-24T15:26:25.499Z"
   },
   {
    "duration": 3,
    "start_time": "2022-12-24T15:26:49.373Z"
   },
   {
    "duration": 340,
    "start_time": "2022-12-24T15:27:01.152Z"
   },
   {
    "duration": 3,
    "start_time": "2022-12-24T15:27:48.906Z"
   },
   {
    "duration": 10,
    "start_time": "2022-12-24T15:27:50.945Z"
   },
   {
    "duration": 10,
    "start_time": "2022-12-24T15:28:38.626Z"
   },
   {
    "duration": 10,
    "start_time": "2022-12-24T15:28:52.297Z"
   },
   {
    "duration": 11,
    "start_time": "2022-12-24T15:35:00.852Z"
   },
   {
    "duration": 12,
    "start_time": "2022-12-24T15:35:30.297Z"
   },
   {
    "duration": 11,
    "start_time": "2022-12-24T15:36:02.804Z"
   },
   {
    "duration": 12,
    "start_time": "2022-12-24T15:36:08.785Z"
   },
   {
    "duration": 8,
    "start_time": "2022-12-24T15:36:22.373Z"
   },
   {
    "duration": 20,
    "start_time": "2022-12-24T15:48:18.057Z"
   },
   {
    "duration": 20,
    "start_time": "2022-12-24T15:49:21.404Z"
   },
   {
    "duration": 21,
    "start_time": "2022-12-24T15:49:25.604Z"
   },
   {
    "duration": 22,
    "start_time": "2022-12-24T15:49:33.252Z"
   },
   {
    "duration": 845,
    "start_time": "2022-12-24T15:49:50.896Z"
   },
   {
    "duration": 524,
    "start_time": "2022-12-24T15:49:58.943Z"
   },
   {
    "duration": 846,
    "start_time": "2022-12-24T15:50:03.171Z"
   },
   {
    "duration": 203,
    "start_time": "2022-12-24T15:50:06.804Z"
   },
   {
    "duration": 54,
    "start_time": "2022-12-24T15:50:14.584Z"
   },
   {
    "duration": 15,
    "start_time": "2022-12-24T15:58:17.584Z"
   },
   {
    "duration": 156,
    "start_time": "2022-12-24T16:00:54.864Z"
   },
   {
    "duration": 125,
    "start_time": "2022-12-24T16:01:12.824Z"
   },
   {
    "duration": 52,
    "start_time": "2022-12-24T16:02:35.699Z"
   },
   {
    "duration": 60,
    "start_time": "2022-12-24T16:02:48.994Z"
   },
   {
    "duration": 54,
    "start_time": "2022-12-24T16:03:04.730Z"
   },
   {
    "duration": 22,
    "start_time": "2022-12-24T16:04:26.970Z"
   },
   {
    "duration": 60,
    "start_time": "2022-12-24T16:06:31.673Z"
   },
   {
    "duration": 6,
    "start_time": "2022-12-24T16:06:35.775Z"
   },
   {
    "duration": 17,
    "start_time": "2022-12-24T16:07:28.015Z"
   },
   {
    "duration": 112,
    "start_time": "2022-12-24T16:07:32.962Z"
   },
   {
    "duration": 13,
    "start_time": "2022-12-24T16:07:36.055Z"
   },
   {
    "duration": 101,
    "start_time": "2022-12-24T16:07:39.814Z"
   },
   {
    "duration": 10,
    "start_time": "2022-12-24T16:07:44.683Z"
   },
   {
    "duration": 97,
    "start_time": "2022-12-24T16:08:16.784Z"
   },
   {
    "duration": 6,
    "start_time": "2022-12-24T16:08:46.938Z"
   },
   {
    "duration": 26,
    "start_time": "2022-12-24T16:09:03.215Z"
   },
   {
    "duration": 4,
    "start_time": "2022-12-24T16:09:40.690Z"
   },
   {
    "duration": 946,
    "start_time": "2022-12-24T16:09:44.180Z"
   },
   {
    "duration": 466,
    "start_time": "2022-12-24T16:09:51.250Z"
   },
   {
    "duration": 924,
    "start_time": "2022-12-24T16:09:56.083Z"
   },
   {
    "duration": 196,
    "start_time": "2022-12-24T16:10:25.091Z"
   },
   {
    "duration": 86,
    "start_time": "2022-12-24T16:10:38.935Z"
   },
   {
    "duration": 75,
    "start_time": "2022-12-24T16:10:44.024Z"
   },
   {
    "duration": 9,
    "start_time": "2022-12-24T16:10:49.280Z"
   },
   {
    "duration": 18,
    "start_time": "2022-12-24T16:11:04.802Z"
   },
   {
    "duration": 116,
    "start_time": "2022-12-24T16:11:13.255Z"
   },
   {
    "duration": 9,
    "start_time": "2022-12-24T16:11:52.263Z"
   },
   {
    "duration": 857,
    "start_time": "2022-12-24T16:12:33.055Z"
   },
   {
    "duration": 449,
    "start_time": "2022-12-24T16:12:37.663Z"
   },
   {
    "duration": 841,
    "start_time": "2022-12-24T16:12:41.362Z"
   },
   {
    "duration": 210,
    "start_time": "2022-12-24T16:12:47.280Z"
   },
   {
    "duration": 93,
    "start_time": "2022-12-24T16:12:57.121Z"
   },
   {
    "duration": 93,
    "start_time": "2022-12-24T16:12:59.403Z"
   },
   {
    "duration": 105,
    "start_time": "2022-12-24T16:13:02.331Z"
   },
   {
    "duration": 27,
    "start_time": "2022-12-24T16:13:16.457Z"
   },
   {
    "duration": 209,
    "start_time": "2022-12-24T16:13:26.015Z"
   },
   {
    "duration": 1331,
    "start_time": "2022-12-24T16:13:30.735Z"
   },
   {
    "duration": 106,
    "start_time": "2022-12-24T16:13:36.330Z"
   },
   {
    "duration": 429,
    "start_time": "2022-12-24T16:13:39.943Z"
   },
   {
    "duration": 100,
    "start_time": "2022-12-24T16:13:43.970Z"
   },
   {
    "duration": 250,
    "start_time": "2022-12-24T16:13:47.016Z"
   },
   {
    "duration": 56,
    "start_time": "2022-12-24T16:13:52.095Z"
   },
   {
    "duration": 53,
    "start_time": "2022-12-24T16:14:17.611Z"
   },
   {
    "duration": 2306,
    "start_time": "2022-12-25T13:23:54.126Z"
   },
   {
    "duration": 2799,
    "start_time": "2022-12-25T13:23:57.760Z"
   },
   {
    "duration": 528,
    "start_time": "2022-12-25T13:24:01.464Z"
   },
   {
    "duration": 894,
    "start_time": "2022-12-25T13:24:02.021Z"
   },
   {
    "duration": 208,
    "start_time": "2022-12-25T13:24:03.510Z"
   },
   {
    "duration": 49,
    "start_time": "2022-12-25T13:24:04.909Z"
   },
   {
    "duration": 95,
    "start_time": "2022-12-25T13:24:05.269Z"
   },
   {
    "duration": 68,
    "start_time": "2022-12-25T13:24:05.666Z"
   },
   {
    "duration": 126,
    "start_time": "2022-12-25T13:24:06.062Z"
   },
   {
    "duration": 169,
    "start_time": "2022-12-25T13:24:07.902Z"
   },
   {
    "duration": 1332,
    "start_time": "2022-12-25T13:24:09.484Z"
   },
   {
    "duration": 61,
    "start_time": "2022-12-25T13:24:11.755Z"
   },
   {
    "duration": 301,
    "start_time": "2022-12-25T13:24:12.207Z"
   },
   {
    "duration": 89,
    "start_time": "2022-12-25T13:24:12.861Z"
   },
   {
    "duration": 241,
    "start_time": "2022-12-25T13:24:13.134Z"
   },
   {
    "duration": 47,
    "start_time": "2022-12-25T13:24:14.156Z"
   },
   {
    "duration": 3512,
    "start_time": "2022-12-25T13:24:22.545Z"
   },
   {
    "duration": 23,
    "start_time": "2022-12-25T13:24:26.308Z"
   },
   {
    "duration": 10,
    "start_time": "2022-12-25T13:24:26.671Z"
   },
   {
    "duration": 119,
    "start_time": "2022-12-25T13:24:38.203Z"
   },
   {
    "duration": 49,
    "start_time": "2022-12-25T13:24:43.864Z"
   },
   {
    "duration": 72,
    "start_time": "2022-12-25T13:26:01.567Z"
   },
   {
    "duration": 902,
    "start_time": "2022-12-25T13:26:05.410Z"
   },
   {
    "duration": 20,
    "start_time": "2022-12-25T13:26:09.814Z"
   },
   {
    "duration": 6,
    "start_time": "2022-12-25T13:26:13.165Z"
   },
   {
    "duration": 5,
    "start_time": "2022-12-25T13:35:33.776Z"
   },
   {
    "duration": 5,
    "start_time": "2022-12-25T13:40:50.477Z"
   },
   {
    "duration": 5,
    "start_time": "2022-12-25T13:42:24.138Z"
   },
   {
    "duration": 1589,
    "start_time": "2022-12-25T13:45:14.888Z"
   },
   {
    "duration": 866,
    "start_time": "2022-12-25T13:45:16.479Z"
   },
   {
    "duration": 582,
    "start_time": "2022-12-25T13:45:17.346Z"
   },
   {
    "duration": 859,
    "start_time": "2022-12-25T13:45:17.930Z"
   },
   {
    "duration": 233,
    "start_time": "2022-12-25T13:45:18.790Z"
   },
   {
    "duration": 51,
    "start_time": "2022-12-25T13:45:19.025Z"
   },
   {
    "duration": 115,
    "start_time": "2022-12-25T13:45:19.078Z"
   },
   {
    "duration": 76,
    "start_time": "2022-12-25T13:45:19.195Z"
   },
   {
    "duration": 122,
    "start_time": "2022-12-25T13:45:19.272Z"
   },
   {
    "duration": 173,
    "start_time": "2022-12-25T13:45:19.396Z"
   },
   {
    "duration": 1303,
    "start_time": "2022-12-25T13:45:19.794Z"
   },
   {
    "duration": 66,
    "start_time": "2022-12-25T13:45:21.099Z"
   },
   {
    "duration": 313,
    "start_time": "2022-12-25T13:45:21.167Z"
   },
   {
    "duration": 123,
    "start_time": "2022-12-25T13:45:21.482Z"
   },
   {
    "duration": 258,
    "start_time": "2022-12-25T13:45:21.607Z"
   },
   {
    "duration": 46,
    "start_time": "2022-12-25T13:45:21.888Z"
   },
   {
    "duration": 3623,
    "start_time": "2022-12-25T13:45:22.711Z"
   },
   {
    "duration": 23,
    "start_time": "2022-12-25T13:45:27.020Z"
   },
   {
    "duration": 52,
    "start_time": "2022-12-25T13:45:27.234Z"
   },
   {
    "duration": 10,
    "start_time": "2022-12-25T13:45:27.920Z"
   },
   {
    "duration": 71,
    "start_time": "2022-12-25T13:45:28.234Z"
   },
   {
    "duration": 971,
    "start_time": "2022-12-25T13:45:30.250Z"
   },
   {
    "duration": 23,
    "start_time": "2022-12-25T13:45:35.033Z"
   },
   {
    "duration": 2,
    "start_time": "2022-12-25T13:45:42.430Z"
   },
   {
    "duration": 4,
    "start_time": "2022-12-25T13:45:52.721Z"
   },
   {
    "duration": 1660,
    "start_time": "2022-12-25T13:46:37.598Z"
   },
   {
    "duration": 835,
    "start_time": "2022-12-25T13:46:40.219Z"
   },
   {
    "duration": 527,
    "start_time": "2022-12-25T13:46:41.056Z"
   },
   {
    "duration": 875,
    "start_time": "2022-12-25T13:46:41.585Z"
   },
   {
    "duration": 221,
    "start_time": "2022-12-25T13:46:42.462Z"
   },
   {
    "duration": 56,
    "start_time": "2022-12-25T13:46:42.684Z"
   },
   {
    "duration": 107,
    "start_time": "2022-12-25T13:46:42.741Z"
   },
   {
    "duration": 67,
    "start_time": "2022-12-25T13:46:42.849Z"
   },
   {
    "duration": 118,
    "start_time": "2022-12-25T13:46:42.918Z"
   },
   {
    "duration": 169,
    "start_time": "2022-12-25T13:46:43.805Z"
   },
   {
    "duration": 1353,
    "start_time": "2022-12-25T13:46:44.382Z"
   },
   {
    "duration": 69,
    "start_time": "2022-12-25T13:46:45.736Z"
   },
   {
    "duration": 316,
    "start_time": "2022-12-25T13:46:45.807Z"
   },
   {
    "duration": 100,
    "start_time": "2022-12-25T13:46:46.125Z"
   },
   {
    "duration": 262,
    "start_time": "2022-12-25T13:46:46.227Z"
   },
   {
    "duration": 55,
    "start_time": "2022-12-25T13:46:46.491Z"
   },
   {
    "duration": 3525,
    "start_time": "2022-12-25T13:46:46.686Z"
   },
   {
    "duration": 22,
    "start_time": "2022-12-25T13:46:50.213Z"
   },
   {
    "duration": 48,
    "start_time": "2022-12-25T13:46:50.236Z"
   },
   {
    "duration": 26,
    "start_time": "2022-12-25T13:46:50.285Z"
   },
   {
    "duration": 72,
    "start_time": "2022-12-25T13:46:51.986Z"
   },
   {
    "duration": 948,
    "start_time": "2022-12-25T13:46:53.462Z"
   },
   {
    "duration": 20,
    "start_time": "2022-12-25T13:46:57.544Z"
   },
   {
    "duration": 103,
    "start_time": "2022-12-25T13:47:00.421Z"
   },
   {
    "duration": 2,
    "start_time": "2022-12-25T13:47:08.541Z"
   },
   {
    "duration": 5,
    "start_time": "2022-12-25T13:47:19.476Z"
   },
   {
    "duration": 5631,
    "start_time": "2022-12-25T13:47:26.501Z"
   },
   {
    "duration": 13,
    "start_time": "2022-12-25T13:47:45.074Z"
   },
   {
    "duration": 18,
    "start_time": "2022-12-25T13:48:33.198Z"
   },
   {
    "duration": 1637,
    "start_time": "2022-12-26T07:58:44.679Z"
   },
   {
    "duration": 1116,
    "start_time": "2022-12-26T07:58:53.700Z"
   },
   {
    "duration": 592,
    "start_time": "2022-12-26T07:59:01.391Z"
   },
   {
    "duration": 965,
    "start_time": "2022-12-26T07:59:05.434Z"
   },
   {
    "duration": 216,
    "start_time": "2022-12-26T07:59:07.933Z"
   },
   {
    "duration": 52,
    "start_time": "2022-12-26T07:59:15.611Z"
   },
   {
    "duration": 99,
    "start_time": "2022-12-26T07:59:18.052Z"
   },
   {
    "duration": 68,
    "start_time": "2022-12-26T07:59:23.673Z"
   },
   {
    "duration": 187,
    "start_time": "2022-12-26T07:59:59.699Z"
   },
   {
    "duration": 1589,
    "start_time": "2022-12-26T08:00:04.451Z"
   },
   {
    "duration": 100,
    "start_time": "2022-12-26T08:00:10.232Z"
   },
   {
    "duration": 319,
    "start_time": "2022-12-26T08:00:16.144Z"
   },
   {
    "duration": 114,
    "start_time": "2022-12-26T08:00:20.771Z"
   },
   {
    "duration": 284,
    "start_time": "2022-12-26T08:00:27.630Z"
   },
   {
    "duration": 165,
    "start_time": "2022-12-26T08:01:10.980Z"
   },
   {
    "duration": 74,
    "start_time": "2022-12-26T08:02:36.759Z"
   },
   {
    "duration": 3864,
    "start_time": "2022-12-26T08:03:02.319Z"
   },
   {
    "duration": 52,
    "start_time": "2022-12-26T08:04:24.999Z"
   },
   {
    "duration": 18,
    "start_time": "2022-12-26T08:04:48.991Z"
   },
   {
    "duration": 15,
    "start_time": "2022-12-26T08:04:58.350Z"
   },
   {
    "duration": 83,
    "start_time": "2022-12-26T08:05:01.031Z"
   },
   {
    "duration": 1034,
    "start_time": "2022-12-26T08:05:03.759Z"
   },
   {
    "duration": 10458,
    "start_time": "2022-12-26T08:15:05.106Z"
   },
   {
    "duration": 43,
    "start_time": "2022-12-26T08:16:11.798Z"
   },
   {
    "duration": 23,
    "start_time": "2022-12-26T08:16:45.358Z"
   },
   {
    "duration": 16,
    "start_time": "2022-12-26T08:17:46.938Z"
   },
   {
    "duration": 8,
    "start_time": "2022-12-26T08:18:10.314Z"
   },
   {
    "duration": 64,
    "start_time": "2022-12-26T08:25:02.632Z"
   },
   {
    "duration": 42,
    "start_time": "2022-12-26T08:25:13.385Z"
   },
   {
    "duration": 66,
    "start_time": "2022-12-26T08:25:15.152Z"
   },
   {
    "duration": 839,
    "start_time": "2022-12-26T08:25:43.944Z"
   },
   {
    "duration": 537,
    "start_time": "2022-12-26T08:25:48.685Z"
   },
   {
    "duration": 883,
    "start_time": "2022-12-26T08:25:53.392Z"
   },
   {
    "duration": 226,
    "start_time": "2022-12-26T08:25:57.724Z"
   },
   {
    "duration": 91,
    "start_time": "2022-12-26T08:26:05.732Z"
   },
   {
    "duration": 78,
    "start_time": "2022-12-26T08:26:09.492Z"
   },
   {
    "duration": 124,
    "start_time": "2022-12-26T08:26:20.432Z"
   },
   {
    "duration": 223,
    "start_time": "2022-12-26T08:27:10.211Z"
   },
   {
    "duration": 215,
    "start_time": "2022-12-26T08:29:07.343Z"
   },
   {
    "duration": 52,
    "start_time": "2022-12-26T08:29:26.363Z"
   },
   {
    "duration": 96,
    "start_time": "2022-12-26T08:29:28.544Z"
   },
   {
    "duration": 63,
    "start_time": "2022-12-26T08:29:32.025Z"
   },
   {
    "duration": 233,
    "start_time": "2022-12-26T08:29:34.041Z"
   },
   {
    "duration": 122,
    "start_time": "2022-12-26T08:30:36.347Z"
   },
   {
    "duration": 859,
    "start_time": "2022-12-26T08:31:53.871Z"
   },
   {
    "duration": 481,
    "start_time": "2022-12-26T08:31:59.623Z"
   },
   {
    "duration": 933,
    "start_time": "2022-12-26T08:32:05.811Z"
   },
   {
    "duration": 214,
    "start_time": "2022-12-26T08:32:15.161Z"
   },
   {
    "duration": 20,
    "start_time": "2022-12-26T08:32:32.359Z"
   },
   {
    "duration": 114,
    "start_time": "2022-12-26T08:32:37.712Z"
   },
   {
    "duration": 99,
    "start_time": "2022-12-26T08:33:01.492Z"
   },
   {
    "duration": 67,
    "start_time": "2022-12-26T08:33:45.023Z"
   },
   {
    "duration": 110,
    "start_time": "2022-12-26T08:33:47.171Z"
   },
   {
    "duration": 75,
    "start_time": "2022-12-26T08:35:12.061Z"
   },
   {
    "duration": 119,
    "start_time": "2022-12-26T08:35:13.970Z"
   },
   {
    "duration": 231,
    "start_time": "2022-12-26T08:35:26.051Z"
   },
   {
    "duration": 123,
    "start_time": "2022-12-26T08:35:28.111Z"
   },
   {
    "duration": 68,
    "start_time": "2022-12-26T08:36:01.111Z"
   },
   {
    "duration": 117,
    "start_time": "2022-12-26T08:36:08.372Z"
   },
   {
    "duration": 62,
    "start_time": "2022-12-26T08:36:35.323Z"
   },
   {
    "duration": 9,
    "start_time": "2022-12-26T08:36:37.666Z"
   },
   {
    "duration": 8,
    "start_time": "2022-12-26T08:36:51.102Z"
   },
   {
    "duration": 1000,
    "start_time": "2022-12-26T08:37:35.571Z"
   },
   {
    "duration": 482,
    "start_time": "2022-12-26T08:37:41.919Z"
   },
   {
    "duration": 862,
    "start_time": "2022-12-26T08:37:46.282Z"
   },
   {
    "duration": 223,
    "start_time": "2022-12-26T08:37:51.900Z"
   },
   {
    "duration": 123,
    "start_time": "2022-12-26T08:38:17.212Z"
   },
   {
    "duration": 114,
    "start_time": "2022-12-26T08:38:25.071Z"
   },
   {
    "duration": 90,
    "start_time": "2022-12-26T08:38:30.763Z"
   },
   {
    "duration": 103,
    "start_time": "2022-12-26T08:38:34.723Z"
   },
   {
    "duration": 66,
    "start_time": "2022-12-26T08:39:55.011Z"
   },
   {
    "duration": 151,
    "start_time": "2022-12-26T08:39:57.031Z"
   },
   {
    "duration": 105,
    "start_time": "2022-12-26T08:40:39.443Z"
   },
   {
    "duration": 10,
    "start_time": "2022-12-26T08:41:39.783Z"
   },
   {
    "duration": 74,
    "start_time": "2022-12-26T08:41:46.929Z"
   },
   {
    "duration": 104,
    "start_time": "2022-12-26T08:41:49.210Z"
   },
   {
    "duration": 890,
    "start_time": "2022-12-26T08:42:34.951Z"
   },
   {
    "duration": 481,
    "start_time": "2022-12-26T08:42:42.484Z"
   },
   {
    "duration": 852,
    "start_time": "2022-12-26T08:42:47.023Z"
   },
   {
    "duration": 189,
    "start_time": "2022-12-26T08:42:49.635Z"
   },
   {
    "duration": 97,
    "start_time": "2022-12-26T08:43:05.443Z"
   },
   {
    "duration": 116,
    "start_time": "2022-12-26T08:43:08.063Z"
   },
   {
    "duration": 152,
    "start_time": "2022-12-26T08:43:17.310Z"
   },
   {
    "duration": 108,
    "start_time": "2022-12-26T08:43:27.843Z"
   },
   {
    "duration": 194,
    "start_time": "2022-12-26T08:43:54.392Z"
   },
   {
    "duration": 1507,
    "start_time": "2022-12-26T08:44:33.563Z"
   },
   {
    "duration": 71,
    "start_time": "2022-12-26T08:45:26.612Z"
   },
   {
    "duration": 326,
    "start_time": "2022-12-26T08:45:35.191Z"
   },
   {
    "duration": 104,
    "start_time": "2022-12-26T08:45:47.843Z"
   },
   {
    "duration": 270,
    "start_time": "2022-12-26T08:45:52.963Z"
   },
   {
    "duration": 3919,
    "start_time": "2022-12-26T08:46:14.452Z"
   },
   {
    "duration": 25,
    "start_time": "2022-12-26T08:46:44.390Z"
   },
   {
    "duration": 13,
    "start_time": "2022-12-26T08:46:50.722Z"
   },
   {
    "duration": 68,
    "start_time": "2022-12-26T08:46:53.363Z"
   },
   {
    "duration": 1047,
    "start_time": "2022-12-26T08:46:55.612Z"
   },
   {
    "duration": 10520,
    "start_time": "2022-12-26T08:47:44.453Z"
   },
   {
    "duration": 22,
    "start_time": "2022-12-26T08:48:19.361Z"
   },
   {
    "duration": 14,
    "start_time": "2022-12-26T08:50:11.238Z"
   },
   {
    "duration": 1606,
    "start_time": "2023-05-14T11:42:47.446Z"
   },
   {
    "duration": 1497,
    "start_time": "2023-05-14T11:45:42.892Z"
   },
   {
    "duration": 674,
    "start_time": "2023-05-14T11:46:23.693Z"
   },
   {
    "duration": 1106,
    "start_time": "2023-05-14T11:46:47.801Z"
   },
   {
    "duration": 226,
    "start_time": "2023-05-14T11:47:38.389Z"
   },
   {
    "duration": 107,
    "start_time": "2023-05-14T11:49:44.005Z"
   },
   {
    "duration": 185,
    "start_time": "2023-05-14T11:49:49.550Z"
   },
   {
    "duration": 105,
    "start_time": "2023-05-14T11:51:08.472Z"
   },
   {
    "duration": 255,
    "start_time": "2023-05-14T11:51:41.237Z"
   },
   {
    "duration": 1597,
    "start_time": "2023-05-14T11:53:08.445Z"
   },
   {
    "duration": 94,
    "start_time": "2023-05-14T11:53:18.130Z"
   },
   {
    "duration": 333,
    "start_time": "2023-05-14T11:53:23.287Z"
   },
   {
    "duration": 112,
    "start_time": "2023-05-14T11:53:29.494Z"
   },
   {
    "duration": 277,
    "start_time": "2023-05-14T11:53:46.436Z"
   },
   {
    "duration": 65,
    "start_time": "2023-05-14T11:53:55.945Z"
   },
   {
    "duration": 4008,
    "start_time": "2023-05-14T11:54:05.241Z"
   },
   {
    "duration": 32,
    "start_time": "2023-05-14T11:54:31.537Z"
   },
   {
    "duration": 13,
    "start_time": "2023-05-14T11:54:38.209Z"
   },
   {
    "duration": 89,
    "start_time": "2023-05-14T11:54:40.448Z"
   },
   {
    "duration": 1383,
    "start_time": "2023-05-14T11:54:42.748Z"
   },
   {
    "duration": 3,
    "start_time": "2023-05-14T11:55:00.197Z"
   },
   {
    "duration": 279,
    "start_time": "2023-05-14T11:55:02.654Z"
   },
   {
    "duration": 140,
    "start_time": "2023-05-14T11:55:30.566Z"
   },
   {
    "duration": 10741,
    "start_time": "2023-05-14T11:58:19.043Z"
   },
   {
    "duration": 927256,
    "start_time": "2023-05-14T11:58:38.360Z"
   },
   {
    "duration": 34,
    "start_time": "2023-05-14T12:39:42.563Z"
   },
   {
    "duration": 184,
    "start_time": "2023-05-14T12:40:11.797Z"
   },
   {
    "duration": 30,
    "start_time": "2023-05-14T12:40:54.251Z"
   },
   {
    "duration": 12849,
    "start_time": "2023-05-14T12:46:27.317Z"
   },
   {
    "duration": 33,
    "start_time": "2023-05-14T12:48:33.571Z"
   },
   {
    "duration": 16,
    "start_time": "2023-05-14T12:49:10.109Z"
   },
   {
    "duration": 16,
    "start_time": "2023-05-14T12:49:19.934Z"
   },
   {
    "duration": 985906,
    "start_time": "2023-05-14T12:49:25.461Z"
   },
   {
    "duration": 33,
    "start_time": "2023-05-14T13:34:55.252Z"
   },
   {
    "duration": 1356,
    "start_time": "2023-05-14T13:35:11.718Z"
   },
   {
    "duration": 21,
    "start_time": "2023-05-14T13:35:18.920Z"
   },
   {
    "duration": 445918,
    "start_time": "2023-05-14T13:35:29.873Z"
   },
   {
    "duration": 22,
    "start_time": "2023-05-14T13:49:03.077Z"
   }
  ],
  "kernelspec": {
   "display_name": "Python 3 (ipykernel)",
   "language": "python",
   "name": "python3"
  },
  "language_info": {
   "codemirror_mode": {
    "name": "ipython",
    "version": 3
   },
   "file_extension": ".py",
   "mimetype": "text/x-python",
   "name": "python",
   "nbconvert_exporter": "python",
   "pygments_lexer": "ipython3",
   "version": "3.9.7"
  },
  "toc": {
   "base_numbering": 1,
   "nav_menu": {},
   "number_sections": true,
   "sideBar": true,
   "skip_h1_title": true,
   "title_cell": "Table of Contents",
   "title_sidebar": "Contents",
   "toc_cell": false,
   "toc_position": {},
   "toc_section_display": true,
   "toc_window_display": false
  }
 },
 "nbformat": 4,
 "nbformat_minor": 2
}
